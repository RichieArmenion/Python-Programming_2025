{
 "cells": [
  {
   "cell_type": "markdown",
   "id": "54c24135-2661-4a72-b984-f9057b7a8935",
   "metadata": {},
   "source": [
    "# Activity Review 3"
   ]
  },
  {
   "cell_type": "code",
   "execution_count": 3,
   "id": "0a8ba8a0-ebf7-42a0-a0f0-97e14957d1a1",
   "metadata": {},
   "outputs": [
    {
     "name": "stdout",
     "output_type": "stream",
     "text": [
      "2\n",
      "3\n",
      "4\n",
      "5\n",
      "6\n",
      "7\n",
      "8\n",
      "9\n",
      "10\n"
     ]
    }
   ],
   "source": [
    "#1.Write a for loop that prints out the integers 2 through 10, each on a\n",
    "#new line, by using the range() function.\n",
    "\n",
    "for n in range(2,11):\n",
    "    print(n)"
   ]
  },
  {
   "cell_type": "code",
   "execution_count": 6,
   "id": "1f4a2153-3de0-4a41-9228-97aaa16558dc",
   "metadata": {},
   "outputs": [
    {
     "name": "stdout",
     "output_type": "stream",
     "text": [
      "2\n",
      "3\n",
      "4\n",
      "5\n",
      "6\n",
      "7\n",
      "8\n",
      "9\n",
      "10\n"
     ]
    }
   ],
   "source": [
    "#2.Use a while loop that prints out the integers 2 through 10 (Hint: You’ll\n",
    "#need to create a new integer first.)\n",
    "\n",
    "n = 2\n",
    "while n < 11:\n",
    "    print (n)\n",
    "    n = n + 1"
   ]
  },
  {
   "cell_type": "code",
   "execution_count": 12,
   "id": "c7d18f43-c750-4672-9048-61961baa4bae",
   "metadata": {},
   "outputs": [
    {
     "name": "stdout",
     "output_type": "stream",
     "text": [
      "4545\n",
      "4545\n",
      "4545\n"
     ]
    }
   ],
   "source": [
    "#3.Write a function called doubles() that takes one number as its input and\n",
    "#doubles that number. Then use the doubles() function in a loop to\n",
    "#double the number 2 three times, displaying each result on a separate\n",
    "#line. Here is some sample output.\n",
    "\n",
    "def doubles(number):\n",
    "    return user * 2\n",
    "\n",
    "num = user\n",
    "for _ in range(3): \n",
    "    num = doubles(num)\n",
    "    print(num)"
   ]
  },
  {
   "cell_type": "code",
   "execution_count": null,
   "id": "42eba785-0676-4ae0-be25-b73d05d4e82a",
   "metadata": {},
   "outputs": [],
   "source": []
  }
 ],
 "metadata": {
  "kernelspec": {
   "display_name": "Python 3 (ipykernel)",
   "language": "python",
   "name": "python3"
  },
  "language_info": {
   "codemirror_mode": {
    "name": "ipython",
    "version": 3
   },
   "file_extension": ".py",
   "mimetype": "text/x-python",
   "name": "python",
   "nbconvert_exporter": "python",
   "pygments_lexer": "ipython3",
   "version": "3.13.5"
  }
 },
 "nbformat": 4,
 "nbformat_minor": 5
}
