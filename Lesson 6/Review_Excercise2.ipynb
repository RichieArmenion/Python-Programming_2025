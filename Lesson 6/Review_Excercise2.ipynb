{
 "cells": [
  {
   "cell_type": "markdown",
   "id": "6d9fccd8-6913-429a-8167-7c13494b02f0",
   "metadata": {},
   "source": [
    "# Activity Review 2"
   ]
  },
  {
   "cell_type": "code",
   "execution_count": 8,
   "id": "6172a6c9-d559-4baf-96b3-e48890ace5a1",
   "metadata": {},
   "outputs": [
    {
     "name": "stdout",
     "output_type": "stream",
     "text": [
      "The Golden Retriever says Bark!\n"
     ]
    }
   ],
   "source": [
    "#1. CREATE A GOLDEN RETRIEVER CLASS THAT INHERITS FROM THE DOG CLASS. GIVE\n",
    "#THE SOUND ARGUMENT OF THE GOLDEN RETRIEVER. SPEAK() METHOD A DEFAULT\n",
    "#VALUE OF \"BARK\". \n",
    "\n",
    "class Dog:\n",
    "     def speak(self, sound = \"Bark!\"):\n",
    "        return f\"The Golden Retriever says {sound}\"   \n",
    "         \n",
    "class GoldenRetriever(Dog):\n",
    "    pass\n",
    "\n",
    "print (GoldenRetriever().speak())"
   ]
  },
  {
   "cell_type": "code",
   "execution_count": 9,
   "id": "1076d596-2954-44c5-8493-dca849c797c1",
   "metadata": {},
   "outputs": [
    {
     "name": "stdout",
     "output_type": "stream",
     "text": [
      "16\n"
     ]
    }
   ],
   "source": [
    "#2. WRITE A RECTANGLE CLASS THAT MUST BE INSTANTIATED WITH TWO ATTRIBUTED:\n",
    "#LENGTH AND WIDTH. ADD A .AREA() METHOD TO THE CLASS THAT RETURNS THE AREA\n",
    "#(LENGTH * WIDTH) OF THE RECTANGLE. THEN WRITE A SQUARE CLASS THAT INHERITS\n",
    "#FROM THE RECTANGLE CLASS AND THAT IS INSTANTIATED WITH A SINGLE ATTRIBUTE\n",
    "#CALLED SIDE_LENGTH. TEST YOUR SQUARE CLASS BY INSTANTIATING A SQUARE WITH A\n",
    "#SIDE_LENGTH OF 4. CALLING THE .AREA() METHOD SHOULD RETURN 16.\n",
    "\n",
    "\n",
    "class Rectangle:\n",
    "    def __init__(self, length, width):\n",
    "        self.length = length\n",
    "        self.width = width\n",
    "\n",
    "    def area(self):\n",
    "        return self.length * self.width\n",
    "\n",
    "\n",
    "\n",
    "class Square(Rectangle):\n",
    "    def __init__(self, side_length):\n",
    "        super().__init__(side_length, side_length)\n",
    "\n",
    "\n",
    "\n",
    "my_square = Square(4)\n",
    "print(my_square.area())   \n"
   ]
  }
 ],
 "metadata": {
  "kernelspec": {
   "display_name": "Python [conda env:base] *",
   "language": "python",
   "name": "conda-base-py"
  },
  "language_info": {
   "codemirror_mode": {
    "name": "ipython",
    "version": 3
   },
   "file_extension": ".py",
   "mimetype": "text/x-python",
   "name": "python",
   "nbconvert_exporter": "python",
   "pygments_lexer": "ipython3",
   "version": "3.13.5"
  }
 },
 "nbformat": 4,
 "nbformat_minor": 5
}
