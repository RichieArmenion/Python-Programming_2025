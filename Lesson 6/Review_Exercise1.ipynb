{
 "cells": [
  {
   "cell_type": "markdown",
   "id": "2552c367-257a-4acc-8247-773ac657dc70",
   "metadata": {},
   "source": [
    "# Activity Review 1\n"
   ]
  },
  {
   "cell_type": "code",
   "execution_count": 11,
   "id": "6358a26e-e932-498f-8694-e96da516f1b2",
   "metadata": {},
   "outputs": [
    {
     "name": "stdout",
     "output_type": "stream",
     "text": [
      "Philo's coat is brown.\n"
     ]
    }
   ],
   "source": [
    "#1. MODIFY THE DOG CLASS TO INCLUDE A THIRD INSTANCE ATTRIBUTE CALLED\n",
    "#COAT_COLOR THAT STORES THE COLOR OF THE DOG’S COAT AS A STRING. STORE YOUR\n",
    "#NEW CLASS IN A SCRIPT AND TEST IT OUT BY ADDING THE FOLLOWING CODE AT THE\n",
    "#BOTTOM OF THE SCRIPT:\n",
    "\n",
    "class Dog:\n",
    "    def __init__(self, name, age, coat_color):\n",
    "        self.name = name\n",
    "        self.age = age\n",
    "        self.coat_color = coat_color\n",
    "\n",
    "philo = Dog(\"Philo\", 5, \"brown\")\n",
    "print(f\"{philo.name}'s coat is {philo.coat_color}.\")"
   ]
  },
  {
   "cell_type": "code",
   "execution_count": 16,
   "id": "8cb53d15-7880-43d7-9543-8896dc3cc5d0",
   "metadata": {},
   "outputs": [
    {
     "name": "stdout",
     "output_type": "stream",
     "text": [
      "The blue car has 20000 miles\n",
      "The red car has 30000 miles\n"
     ]
    }
   ],
   "source": [
    "#2. CREATE A CAR CLASS WITH TWO INSTANCE ATTRIBUTES: .COLOR, WHICH STORES THE\n",
    "#NAME OF THE CAR’S COLOR AS A STRING, AND .MILEAGE, WHICH STORES THE NUMBER OF\n",
    "#MILES ON THE CAR AS AN INTEGER. THEN INSTANTIATE TWO CAR OBJECTS—A BLUE CAR\n",
    "#WITH 20,000 MILES, AND A RED CAR WITH 30,000MILES, AND PRINT OUT THEIR COLORS\n",
    "#AND MILEAGE. YOUR OUTPUT SHOULD LOOK LIKE THE FOLLOWING:\n",
    "\n",
    "class Car:\n",
    "    def __init__(self, color, mileage):\n",
    "        self.color = color\n",
    "        self.mileage = mileage\n",
    "\n",
    "blueCar = Car(\"blue\", 20000)\n",
    "redCar = Car(\"red\", 30000)\n",
    "\n",
    "print (f\"The {blueCar.color} car has {blueCar.mileage} miles.\")\n",
    "print (f\"The {redCar.color} car has {redCar.mileage} miles.\")"
   ]
  },
  {
   "cell_type": "code",
   "execution_count": 22,
   "id": "ec172a56-8942-41e4-89ad-fe4407c7f502",
   "metadata": {},
   "outputs": [
    {
     "name": "stdout",
     "output_type": "stream",
     "text": [
      "100\n"
     ]
    }
   ],
   "source": [
    "#3. MODIFY THE CAR CLASS WITH AN INSTANCE METHOD CALLED . DRIVE() THAT TAKES A\n",
    "#NUMBER AS AN ARGUMENT AND ADDS THAT NUMBER TO THE .MILEAGE ATTRIBUTE. TEST\n",
    "#THAT YOUR SOLUTION WORKS BY INSTANTIATING A CAR WITH 0 MILES, THEN CALL\n",
    "#.DRIVE(100) AND PRINT THE .MILEAGE ATTRIBUTE TO CHECK THAT IT IS SET TO 100.\n",
    "\n",
    "class Car:\n",
    "    def __init__(self, color, mileage):\n",
    "        self.color = color\n",
    "        self.mileage = mileage\n",
    "\n",
    "    def drive(self, miles):\n",
    "        self.mileage += miles\n",
    "\n",
    "\n",
    "\n",
    "my_car = Car(\"blue\", 0)   \n",
    "my_car.drive(100)         \n",
    "print(my_car.mileage)     "
   ]
  },
  {
   "cell_type": "code",
   "execution_count": null,
   "id": "ec75b730-a9a5-446c-ac46-6488df244718",
   "metadata": {},
   "outputs": [],
   "source": []
  }
 ],
 "metadata": {
  "kernelspec": {
   "display_name": "Python [conda env:base] *",
   "language": "python",
   "name": "conda-base-py"
  },
  "language_info": {
   "codemirror_mode": {
    "name": "ipython",
    "version": 3
   },
   "file_extension": ".py",
   "mimetype": "text/x-python",
   "name": "python",
   "nbconvert_exporter": "python",
   "pygments_lexer": "ipython3",
   "version": "3.13.5"
  }
 },
 "nbformat": 4,
 "nbformat_minor": 5
}
