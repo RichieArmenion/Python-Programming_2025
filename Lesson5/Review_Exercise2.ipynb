{
 "cells": [
  {
   "cell_type": "markdown",
   "id": "a654d1fc-f3e2-400c-9f8a-87ffa4d19ec6",
   "metadata": {},
   "source": [
    "# Activity Review 2"
   ]
  },
  {
   "cell_type": "code",
   "execution_count": 1,
   "id": "ccc63561-1080-46dd-ace9-e291bf6e7b7e",
   "metadata": {},
   "outputs": [],
   "source": [
    "#1. CREATE A LIST NAMED FOOD WITH TWO ELEMENTS: \"RICE\" AND \"BEANS\".\n",
    "\n",
    "\n",
    "\n",
    "\n",
    "\n",
    "\n",
    "\n",
    "food = [\"RICE\", \"BEANS\"]"
   ]
  },
  {
   "cell_type": "code",
   "execution_count": 8,
   "id": "7faaa011-dd7b-446e-8583-e552fd7435cb",
   "metadata": {},
   "outputs": [],
   "source": [
    "#2. APPEND THE STRING \"BROCCOLI\" TO THE FOOD USING.APPEND().\n",
    "\n",
    "food.append(\"BROCCOLI\")"
   ]
  },
  {
   "cell_type": "code",
   "execution_count": 7,
   "id": "0f3d607b-c624-49b0-bc0f-75a3ee660ec5",
   "metadata": {},
   "outputs": [],
   "source": [
    "#3. ADD THE STRING \"BREAD\" AND \"PIZZA\" TO \"FOOD\" USING.EXTEND().\n",
    "\n",
    "food.extend([\"BREAD\", \"PIZZA\"])"
   ]
  },
  {
   "cell_type": "code",
   "execution_count": 9,
   "id": "3b6f0585-f60d-496d-81a1-030a8c13211d",
   "metadata": {},
   "outputs": [
    {
     "name": "stdout",
     "output_type": "stream",
     "text": [
      "['Rice', 'Beans']\n"
     ]
    }
   ],
   "source": [
    "#4. PRINT THE FIRST TWO ITEMS IN THE FOOD LIST USING PRINT() AND SLICING NOTATION.\n",
    "\n",
    "print(food[:2])"
   ]
  },
  {
   "cell_type": "code",
   "execution_count": 10,
   "id": "9e902a64-ab82-47cb-b8b4-93388324010d",
   "metadata": {},
   "outputs": [
    {
     "name": "stdout",
     "output_type": "stream",
     "text": [
      "BROCCOLI\n"
     ]
    }
   ],
   "source": [
    "#5. PRINT THE LAST ITEM IN FOOD USING PRINT() AND INDEX NOTATION.\n",
    "\n",
    "print(food[-1])"
   ]
  },
  {
   "cell_type": "code",
   "execution_count": 11,
   "id": "cf46e409-ec2b-40a8-8fc6-2069832433f6",
   "metadata": {},
   "outputs": [],
   "source": [
    "#6. CREATE A LIST CALLED BREAKFAST FROM THE STRING \"EGGS, FRUIT, ORANGE JUICE\" USING THE STRING.SPLIT() METHOD.\n",
    "\n",
    "breakfast = \"EGGS, FRUIT, ORANGE JUICE\".split(\", \")"
   ]
  },
  {
   "cell_type": "code",
   "execution_count": 12,
   "id": "678fddb2-34de-4424-9fe5-23646406df30",
   "metadata": {},
   "outputs": [
    {
     "name": "stdout",
     "output_type": "stream",
     "text": [
      "3\n"
     ]
    }
   ],
   "source": [
    "#7. VERIFY THAT BREAKFAST HAS THREE ITEMS USING LEN().\n",
    "\n",
    "print (len(breakfast))"
   ]
  },
  {
   "cell_type": "code",
   "execution_count": 15,
   "id": "a4523a0e-7c13-4bef-971f-34ef967d61f3",
   "metadata": {},
   "outputs": [
    {
     "name": "stdout",
     "output_type": "stream",
     "text": [
      "[4, 5, 12]\n"
     ]
    }
   ],
   "source": [
    "#8. CREATE A NEW LIST CALLED LENGTHS USING A LIST COMPREHENSION THAT CONTAINS THE LENGTHS OF EACH STRING IN THE BREAKFAST LIST.\n",
    "\n",
    "lengths = [len(item) for item in breakfast]\n",
    "print (lengths)"
   ]
  }
 ],
 "metadata": {
  "kernelspec": {
   "display_name": "Python [conda env:base] *",
   "language": "python",
   "name": "conda-base-py"
  },
  "language_info": {
   "codemirror_mode": {
    "name": "ipython",
    "version": 3
   },
   "file_extension": ".py",
   "mimetype": "text/x-python",
   "name": "python",
   "nbconvert_exporter": "python",
   "pygments_lexer": "ipython3",
   "version": "3.13.5"
  }
 },
 "nbformat": 4,
 "nbformat_minor": 5
}
