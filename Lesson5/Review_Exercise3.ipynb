{
 "cells": [
  {
   "cell_type": "markdown",
   "id": "dc96c042-a283-4fb4-8361-b66aa64edb05",
   "metadata": {},
   "source": [
    "# Activity Review 3\n"
   ]
  },
  {
   "cell_type": "code",
   "execution_count": 1,
   "id": "4858bacc-29fe-4e49-b434-ad5ac36a2659",
   "metadata": {},
   "outputs": [],
   "source": [
    "#1. CREATE A TUPLE DATA WITH TWO VALUES. THE FIRST VALUE SHOULD BE THE\n",
    "#TUPLE (1, 2) AND THE SECOND VALUE SHOULD BE THE TUPLE (3, 4).\n",
    "\n",
    "data = ((1, 2), (3, 4))"
   ]
  },
  {
   "cell_type": "code",
   "execution_count": 5,
   "id": "387842b1-6999-4031-aa6a-a3f14b298ed6",
   "metadata": {},
   "outputs": [
    {
     "name": "stdout",
     "output_type": "stream",
     "text": [
      "Row 1 sum: 3\n",
      "Row 2 sum: 7\n"
     ]
    }
   ],
   "source": [
    "#2. WRITE A FOR LOOP THAT LOOPS OVER DATA AND PRINTS THE SUM OF EACH\n",
    "#NESTED TUPLE. THE OUTPUT SHOULD LOOK LIKE THIS:\n",
    "\n",
    "data = ((1, 2), (3, 4))\n",
    "for i, t in enumerate(data, start=1):\n",
    "    print(f\"Row {i} sum: {sum(t)}\")"
   ]
  },
  {
   "cell_type": "code",
   "execution_count": 8,
   "id": "bae723c5-5b8d-444f-b5eb-bd3b39a8fc80",
   "metadata": {},
   "outputs": [
    {
     "name": "stdout",
     "output_type": "stream",
     "text": [
      "Copy of numbers: [5, 2, 9, 1, 7]\n"
     ]
    }
   ],
   "source": [
    "#4. CREATE A COPY OF THE NUMBERS LIST USING THE [:] SLICING NOTATION.\n",
    "\n",
    "numbers = [5,2,9,1,7]\n",
    "\n",
    "numbers_copy = numbers[:]\n",
    "print (f\"Copy of numbers: {numbers_copy}\")"
   ]
  },
  {
   "cell_type": "code",
   "execution_count": 9,
   "id": "141eec31-0e00-4b5a-8d67-dbee676bee41",
   "metadata": {},
   "outputs": [
    {
     "name": "stdout",
     "output_type": "stream",
     "text": [
      "Sorted numbers: [1, 2, 5, 7, 9]\n"
     ]
    }
   ],
   "source": [
    "#5. SORT THE NUMBERS LIST IN NUMERICAL ORDER USING THE .SORT() METHOD.\n",
    "\n",
    "numbers.sort()\n",
    "print(f\"Sorted numbers: {numbers}\")"
   ]
  }
 ],
 "metadata": {
  "kernelspec": {
   "display_name": "Python [conda env:base] *",
   "language": "python",
   "name": "conda-base-py"
  },
  "language_info": {
   "codemirror_mode": {
    "name": "ipython",
    "version": 3
   },
   "file_extension": ".py",
   "mimetype": "text/x-python",
   "name": "python",
   "nbconvert_exporter": "python",
   "pygments_lexer": "ipython3",
   "version": "3.13.5"
  }
 },
 "nbformat": 4,
 "nbformat_minor": 5
}
