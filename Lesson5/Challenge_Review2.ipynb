{
 "cells": [
  {
   "cell_type": "markdown",
   "id": "daa7a6c1-ad5f-463d-a6e7-c5a51511b11b",
   "metadata": {},
   "source": [
    "# Challenge: Wax Poetic"
   ]
  },
  {
   "cell_type": "code",
   "execution_count": 2,
   "id": "f60fa034-79db-4b53-9374-838e3949a6b3",
   "metadata": {},
   "outputs": [],
   "source": [
    "NOUNS = [\"FOSSIL\", \"HORSE\", \"AADVARK\", \"JUDGE\", \"CHEF\", \"MANGO\", \"EXTROVERT\", \"GORILLA\"]\n",
    "\n",
    "VERBS = [\"KICKS\", \"JINGLES\", \"BOUNCES\", \"SLURPS\", \"MEOWS\", \"EXPLODES\", \"CURDLES\"]\n",
    "\n",
    "ADJECTIVES = [\"FURRY\", \"BALDING\", \"INCREDULOUS\", \"FRAGRANT\", \"EXUBERANT\", \"GLISTENING\"]\n",
    "\n",
    "PREPOSITIONS = [\"AGAINST\", \"AFTER\", \"INTO\", \"BENEATH\", \"UPON\", \"FOR\", \"IN\", \"LIKE\", \"OVER\", \"WITHIN\"]\n",
    "\n",
    "ADVERBS = [\"CURIOUSLY\", \"FURIOUSLY\", \"SENSUOUSLY\", \"EXTRAVAGANTLY\", \"TANTALIZINGLY\"]"
   ]
  },
  {
   "cell_type": "code",
   "execution_count": null,
   "id": "a7154256-deaa-41f8-ae0b-c22bf80b9a76",
   "metadata": {},
   "outputs": [],
   "source": []
  }
 ],
 "metadata": {
  "kernelspec": {
   "display_name": "Python [conda env:base] *",
   "language": "python",
   "name": "conda-base-py"
  },
  "language_info": {
   "codemirror_mode": {
    "name": "ipython",
    "version": 3
   },
   "file_extension": ".py",
   "mimetype": "text/x-python",
   "name": "python",
   "nbconvert_exporter": "python",
   "pygments_lexer": "ipython3",
   "version": "3.13.5"
  }
 },
 "nbformat": 4,
 "nbformat_minor": 5
}
