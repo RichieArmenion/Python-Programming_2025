{
 "cells": [
  {
   "cell_type": "markdown",
   "id": "3ccdf76b-6084-4958-b72d-b424e9545c64",
   "metadata": {},
   "source": [
    "# Activity Review 1\n"
   ]
  },
  {
   "cell_type": "code",
   "execution_count": 1,
   "id": "21f67aa0-7c4a-419e-9102-c3c620079b7e",
   "metadata": {},
   "outputs": [],
   "source": [
    "#1. CREATE A TUPLE LITERAL NAMED CARDINAL_NUMBERS THAT HOLDS THE STRINGS \"FIRST\",\n",
    "#\"SECOND\" AND \"THIRD\", IN THAT ORDER.\n",
    "\n",
    "cardinal_numbers = (\"FIRST\", \"SECOND\", \"THIRD\")"
   ]
  },
  {
   "cell_type": "code",
   "execution_count": 2,
   "id": "90b12d88-2d9b-43cd-a051-0b19ad62b785",
   "metadata": {},
   "outputs": [
    {
     "name": "stdout",
     "output_type": "stream",
     "text": [
      "SECOND\n"
     ]
    }
   ],
   "source": [
    "#2. USING INDEX NOTATION AND PRINT(), DISPLAY THE STRING AT INDEX 1 IN CARDINAL_NUMBERS.\n",
    "\n",
    "print(cardinal_numbers[1])"
   ]
  },
  {
   "cell_type": "code",
   "execution_count": 3,
   "id": "6788eab4-3cd8-4f78-8aaa-e80dc6a4c982",
   "metadata": {},
   "outputs": [
    {
     "name": "stdout",
     "output_type": "stream",
     "text": [
      "FIRST\n",
      "SECOND\n",
      "THIRD\n"
     ]
    }
   ],
   "source": [
    "#3. UNPACK THE VALUES IN CARDINAL_NUMBERS INTO THREE NEW STRINGS NAMED POSITION1,\n",
    "#POSITION2 AND POSITION3 IN A SINGLE LINE OF CODE, THEN PRINT EACH VALUE ON A SEPARATE LINE.\n",
    "\n",
    "position1, position2, position3 = cardinal_numbers\n",
    "print(position1)\n",
    "print(position2)\n",
    "print(position3)"
   ]
  },
  {
   "cell_type": "code",
   "execution_count": 4,
   "id": "3fed450c-f9a2-47c8-82a1-d2898437c054",
   "metadata": {},
   "outputs": [
    {
     "name": "stdout",
     "output_type": "stream",
     "text": [
      "('R', 'I', 'C', 'H', 'I', 'E')\n"
     ]
    }
   ],
   "source": [
    "#4. CREATE A TUPLE CALLED MY_NAME THAT CONTAINS THE LETTERS OF YOUR NAME BY USING TUPLE () AND A STRING LITERAL.\n",
    "\n",
    "my_name = tuple(\"RICHIE\")\n",
    "print(my_name)"
   ]
  },
  {
   "cell_type": "code",
   "execution_count": 5,
   "id": "44548bcd-abc3-423d-bce1-c0b2dfb1c0d2",
   "metadata": {},
   "outputs": [
    {
     "data": {
      "text/plain": [
       "False"
      ]
     },
     "execution_count": 5,
     "metadata": {},
     "output_type": "execute_result"
    }
   ],
   "source": [
    "#5. CHECK WHETHER OR NOT THE CHARACTER \"X\" IS IN MY_NAME USING THE IN KEYWORD.\n",
    "\n",
    "\"X\" in my_name"
   ]
  },
  {
   "cell_type": "code",
   "execution_count": 6,
   "id": "0ed95231-db10-472b-bd4d-95df98627387",
   "metadata": {},
   "outputs": [
    {
     "name": "stdout",
     "output_type": "stream",
     "text": [
      "('I', 'C', 'H', 'I', 'E')\n"
     ]
    }
   ],
   "source": [
    "#6. CREATE A NEW TUPLE CONTAINING ALL BUT THE FIRST LETTER IN MY NAME USING SLICING NOTATION.\n",
    "\n",
    "new_tuple = my_name[1:]\n",
    "print(new_tuple)"
   ]
  }
 ],
 "metadata": {
  "kernelspec": {
   "display_name": "Python [conda env:base] *",
   "language": "python",
   "name": "conda-base-py"
  },
  "language_info": {
   "codemirror_mode": {
    "name": "ipython",
    "version": 3
   },
   "file_extension": ".py",
   "mimetype": "text/x-python",
   "name": "python",
   "nbconvert_exporter": "python",
   "pygments_lexer": "ipython3",
   "version": "3.13.5"
  }
 },
 "nbformat": 4,
 "nbformat_minor": 5
}
