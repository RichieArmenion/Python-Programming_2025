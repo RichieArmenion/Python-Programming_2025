{
 "cells": [
  {
   "cell_type": "markdown",
   "id": "42f231e8-9c0e-4069-af84-bc53b9ee04a3",
   "metadata": {},
   "source": [
    "# Challenge: List of List"
   ]
  },
  {
   "cell_type": "code",
   "execution_count": 1,
   "id": "7e4dfe24-4b7a-481a-8b36-b46146c64d94",
   "metadata": {},
   "outputs": [
    {
     "name": "stdout",
     "output_type": "stream",
     "text": [
      "University: California Institute of Technology | Enrollment: 2175 | Tuition 37704 \n",
      "University: Harvard | Enrollment: 19627 | Tuition 39849 \n",
      "University: Massachusetts Institute of Technology | Enrollment: 10566 | Tuition 40732 \n",
      "University: Princeton | Enrollment: 7802 | Tuition 37000 \n",
      "University: Rice | Enrollment: 5879 | Tuition 35551 \n",
      "University: Stanford | Enrollment: 19535 | Tuition 40569 \n",
      "University: Yale | Enrollment: 11701 | Tuition 40500 \n"
     ]
    }
   ],
   "source": [
    "#WRITE A PROGRAM THAT CONTAINS THE FOLLOWING LISTS OF LISTS:\n",
    "\n",
    "universities = [\n",
    "    ['California Institute of Technology', 2175, 37704],\n",
    "    ['Harvard', 19627, 39849],\n",
    "    ['Massachusetts Institute of Technology', 10566, 40732],\n",
    "    ['Princeton', 7802, 37000],\n",
    "    ['Rice', 5879, 35551],\n",
    "    ['Stanford', 19535, 40569],\n",
    "    ['Yale', 11701, 40500]\n",
    "]\n",
    "\n",
    "for uni in universities:\n",
    "    print (f\"University: {uni[0]} | Enrollment: {uni[1]} | Tuition {uni[2]} \")"
   ]
  },
  {
   "cell_type": "code",
   "execution_count": null,
   "id": "e1add976-cd81-44d6-aec8-dbe121451f3f",
   "metadata": {},
   "outputs": [],
   "source": []
  }
 ],
 "metadata": {
  "kernelspec": {
   "display_name": "Python [conda env:base] *",
   "language": "python",
   "name": "conda-base-py"
  },
  "language_info": {
   "codemirror_mode": {
    "name": "ipython",
    "version": 3
   },
   "file_extension": ".py",
   "mimetype": "text/x-python",
   "name": "python",
   "nbconvert_exporter": "python",
   "pygments_lexer": "ipython3",
   "version": "3.13.5"
  }
 },
 "nbformat": 4,
 "nbformat_minor": 5
}
