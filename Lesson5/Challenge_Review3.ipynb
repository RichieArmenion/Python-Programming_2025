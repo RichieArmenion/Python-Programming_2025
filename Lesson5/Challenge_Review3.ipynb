{
 "cells": [
  {
   "cell_type": "markdown",
   "id": "65c9389f-1fac-4907-bdf5-db54b7709063",
   "metadata": {},
   "source": [
    "# Challenge: Capital City Loop"
   ]
  },
  {
   "cell_type": "code",
   "execution_count": null,
   "id": "20520838-470a-4289-8e3a-80421bed633b",
   "metadata": {},
   "outputs": [],
   "source": [
    "capitals_dict = {\n",
    "    'Alabama': 'Montgomery',\n",
    "    'Alaska': 'Juneau',\n",
    "    'Arizona': 'Phoenix',\n",
    "    'Arkansas': 'Little Rock',\n",
    "    'California': 'Sacramento',\n",
    "    'Colorado': 'Denver',\n",
    "    'Connecticut': 'Hartford',\n",
    "    'Delaware': 'Dover',\n",
    "    'Florida': 'Tallahassee',\n",
    "    'Georgia': 'Atlanta',\n",
    "}\n",
    "\n",
    "for state, capital in capitals_dict.items():\n",
    "    "
   ]
  }
 ],
 "metadata": {
  "kernelspec": {
   "display_name": "Python [conda env:base] *",
   "language": "python",
   "name": "conda-base-py"
  },
  "language_info": {
   "codemirror_mode": {
    "name": "ipython",
    "version": 3
   },
   "file_extension": ".py",
   "mimetype": "text/x-python",
   "name": "python",
   "nbconvert_exporter": "python",
   "pygments_lexer": "ipython3",
   "version": "3.13.5"
  }
 },
 "nbformat": 4,
 "nbformat_minor": 5
}
