{
 "cells": [
  {
   "cell_type": "markdown",
   "id": "a129a9f9-a5ce-475e-9b19-a7787ca3acf9",
   "metadata": {},
   "source": [
    "# Activity Review 6"
   ]
  },
  {
   "cell_type": "code",
   "execution_count": 1,
   "id": "7d5e8150-01c0-4b5d-a56b-7fe15a28b497",
   "metadata": {},
   "outputs": [],
   "source": [
    "#1. CREATE AN EMPTY DICTIONARY NAMED CAPTAINS.\n",
    "\n",
    "captains = {}"
   ]
  },
  {
   "cell_type": "code",
   "execution_count": 5,
   "id": "02557b9c-f7b7-4986-a197-e460e6c1e8df",
   "metadata": {},
   "outputs": [
    {
     "name": "stdout",
     "output_type": "stream",
     "text": [
      "{'Enterprise': 'Picard', 'Voyager': 'Janeway', 'Defiant': 'Sisko'}\n"
     ]
    }
   ],
   "source": [
    "#2. USING THE SQUARE BRACKET NOTATION, ENTER THE FOLLOWING DATA INTO THE\n",
    "#DICTIONARY, ONE ITEM AT A TIME:\n",
    "\n",
    "captains ['Enterprise'] = 'Picard'\n",
    "captains ['Voyager'] = 'Janeway'\n",
    "captains ['Defiant'] = 'Sisko'\n",
    "\n",
    "print (captains)"
   ]
  },
  {
   "cell_type": "code",
   "execution_count": 7,
   "id": "851caae4-8441-4182-b699-ef623ef907c0",
   "metadata": {},
   "outputs": [],
   "source": [
    "#3. WRITE TWO IF STATEMENTS THAT CHECK IF \"ENTERPRISE\" AND \"DISCOVERY\" EXIST AS\n",
    "#KEYS IN THE DICTIONARY. SET THEIR VALUES TO \"UNKNOWN\" IF THE KEY DOES NOT EXIST.\n",
    "\n",
    "if 'Enterprise' not in captains:\n",
    "    captains ['Enterprise'] = 'UNKNOWN'\n",
    "\n",
    "if 'Discovery' not in captains:\n",
    "    captains ['Discovery'] = 'UNKNOWN'\n",
    "    "
   ]
  },
  {
   "cell_type": "code",
   "execution_count": 13,
   "id": "6bd6cea5-c0cd-4db3-8bbf-9bb975109da4",
   "metadata": {},
   "outputs": [
    {
     "name": "stdout",
     "output_type": "stream",
     "text": [
      "The Enterprise is captained by Picard.\n",
      "The Voyager is captained by Janeway.\n",
      "The Defiant is captained by Sisko.\n",
      "The Discovery is captained by UNKNOWN.\n"
     ]
    }
   ],
   "source": [
    "#4. WRITE A FOR LOOP TO DISPLAY THE SHIP AND CAPTAIN NAMES CONTAINED IN THE\n",
    "#DICTIONARY. FOR EXAMPLE, THE OUTPUT SHOULD LOOK SOMETHING LIKE THIS:\n",
    "    \n",
    "for ship, captain in captains.items():\n",
    "    print(f\"The {ship} is captained by {captain}.\")\n"
   ]
  },
  {
   "cell_type": "code",
   "execution_count": 14,
   "id": "2a3237cf-c427-427e-bc6a-32e991712b02",
   "metadata": {},
   "outputs": [
    {
     "name": "stdout",
     "output_type": "stream",
     "text": [
      "\n",
      "After deleting Discovery:\n",
      "The Enterprise is captained by Picard.\n",
      "The Voyager is captained by Janeway.\n",
      "The Defiant is captained by Sisko.\n"
     ]
    }
   ],
   "source": [
    "#5. DELETE \"DISCOVERY\" FROM THE DICTIONARY\n",
    "\n",
    "if 'Discovery' in captains:\n",
    "    del captains['Discovery']\n",
    "\n",
    "print(\"\\nAfter deleting Discovery:\")\n",
    "for ship, captain in captains.items():\n",
    "    print(f\"The {ship} is captained by {captain}.\")"
   ]
  },
  {
   "cell_type": "code",
   "execution_count": 15,
   "id": "ac477065-d9de-470e-b516-b34efa14cd30",
   "metadata": {},
   "outputs": [
    {
     "name": "stdout",
     "output_type": "stream",
     "text": [
      "\n",
      "Dictionary created with dict():\n",
      "The Enterprise is captained by Picard.\n",
      "The Voyager is captained by Janeway.\n",
      "The Defiant is captained by Sisko.\n"
     ]
    }
   ],
   "source": [
    "#6. BONUS: MAKE THE SAME DICTIONARY BY USING DICT() AND PASSING IN THE INITIAL\n",
    "#VALUES WHEN YOU FIRST CREATE THE DICTIONARY\n",
    "\n",
    "captains2 = dict(Enterprise=\"Picard\", Voyager=\"Janeway\", Defiant=\"Sisko\")\n",
    "\n",
    "print(\"\\nDictionary created with dict():\")\n",
    "for ship, captain in captains2.items():\n",
    "    print(f\"The {ship} is captained by {captain}.\")"
   ]
  }
 ],
 "metadata": {
  "kernelspec": {
   "display_name": "Python [conda env:base] *",
   "language": "python",
   "name": "conda-base-py"
  },
  "language_info": {
   "codemirror_mode": {
    "name": "ipython",
    "version": 3
   },
   "file_extension": ".py",
   "mimetype": "text/x-python",
   "name": "python",
   "nbconvert_exporter": "python",
   "pygments_lexer": "ipython3",
   "version": "3.13.5"
  }
 },
 "nbformat": 4,
 "nbformat_minor": 5
}
