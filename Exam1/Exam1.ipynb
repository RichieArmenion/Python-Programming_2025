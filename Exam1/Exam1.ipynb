{
 "cells": [
  {
   "cell_type": "markdown",
   "id": "75783e16-244a-472e-9ec4-773f94a50fde",
   "metadata": {},
   "source": [
    "# Armenion, Richie Ann ID:2810047"
   ]
  },
  {
   "cell_type": "markdown",
   "id": "0c3e1893-92d3-42c2-8213-7c1e4f5b3656",
   "metadata": {},
   "source": [
    "# Quesion 1"
   ]
  },
  {
   "cell_type": "code",
   "execution_count": null,
   "id": "166555b4-b26e-4002-a4ff-3fdeb451839a",
   "metadata": {},
   "outputs": [],
   "source": [
    "user = input(\"Enter your name: \")\n",
    "print(f\"Hello, {user}\")"
   ]
  },
  {
   "cell_type": "markdown",
   "id": "de14fbe0-e1d4-44eb-81a1-564d8748a49f",
   "metadata": {},
   "source": [
    "# Question 2"
   ]
  },
  {
   "cell_type": "code",
   "execution_count": 14,
   "id": "9ee2f61f-2c9d-4e13-a807-ec845b2d4718",
   "metadata": {},
   "outputs": [
    {
     "name": "stdin",
     "output_type": "stream",
     "text": [
      "Enter a positive integer:  3\n"
     ]
    },
    {
     "ename": "ValueError",
     "evalue": "invalid literal for int() with base 10: 'Richie Ann'",
     "output_type": "error",
     "traceback": [
      "\u001b[1;31m---------------------------------------------------------------------------\u001b[0m",
      "\u001b[1;31mValueError\u001b[0m                                Traceback (most recent call last)",
      "Cell \u001b[1;32mIn[14], line 2\u001b[0m\n\u001b[0;32m      1\u001b[0m n \u001b[38;5;241m=\u001b[39m \u001b[38;5;28minput\u001b[39m(\u001b[38;5;124m\"\u001b[39m\u001b[38;5;124mEnter a positive integer: \u001b[39m\u001b[38;5;124m\"\u001b[39m)\n\u001b[1;32m----> 2\u001b[0m intt \u001b[38;5;241m=\u001b[39m \u001b[38;5;28mint\u001b[39m(user)\n\u001b[0;32m      3\u001b[0m formula \u001b[38;5;241m=\u001b[39m n \u001b[38;5;241m*\u001b[39m (n \u001b[38;5;241m+\u001b[39m \u001b[38;5;241m1\u001b[39m)\u001b[38;5;241m/\u001b[39m\u001b[38;5;241m2\u001b[39m\n\u001b[0;32m      4\u001b[0m summ \u001b[38;5;241m=\u001b[39m user \u001b[38;5;241m+\u001b[39m formula\n",
      "\u001b[1;31mValueError\u001b[0m: invalid literal for int() with base 10: 'Richie Ann'"
     ]
    }
   ],
   "source": [
    "n = input(\"Enter a positive integer: \")\n",
    "intt = int(user)\n",
    "formula = n * (n + 1)/2\n",
    "summ = user + formula\n",
    "print(f\"The sum of {n} using the formula n(n + 1)/2 is {summ} \")"
   ]
  },
  {
   "cell_type": "markdown",
   "id": "1a78ad26-5616-481d-bc73-7558b18ab637",
   "metadata": {},
   "source": [
    "# Question 3"
   ]
  },
  {
   "cell_type": "code",
   "execution_count": 17,
   "id": "7d6df246-5628-4099-9ec1-45560e7978c3",
   "metadata": {},
   "outputs": [
    {
     "name": "stdin",
     "output_type": "stream",
     "text": [
      "Enter any letter a\n"
     ]
    },
    {
     "ename": "NameError",
     "evalue": "name 'a' is not defined",
     "output_type": "error",
     "traceback": [
      "\u001b[1;31m---------------------------------------------------------------------------\u001b[0m",
      "\u001b[1;31mNameError\u001b[0m                                 Traceback (most recent call last)",
      "Cell \u001b[1;32mIn[17], line 2\u001b[0m\n\u001b[0;32m      1\u001b[0m user \u001b[38;5;241m=\u001b[39m \u001b[38;5;28minput\u001b[39m(\u001b[38;5;124m\"\u001b[39m\u001b[38;5;124mEnter any letter\u001b[39m\u001b[38;5;124m\"\u001b[39m)\n\u001b[1;32m----> 2\u001b[0m vowel \u001b[38;5;241m=\u001b[39m a\n\u001b[0;32m      3\u001b[0m y \u001b[38;5;241m=\u001b[39m y\n\u001b[0;32m      4\u001b[0m \u001b[38;5;28;01mif\u001b[39;00m user \u001b[38;5;241m==\u001b[39m vowel:\n",
      "\u001b[1;31mNameError\u001b[0m: name 'a' is not defined"
     ]
    }
   ],
   "source": [
    "user = input(\"Enter any letter\")\n",
    "vowel = a,e,i,o,u,A,E,I,O,U\n",
    "y = y\n",
    "if user == vowel:\n",
    "    print(f\"{user} is a vowel\")\n",
    "elif user == y:\n",
    "    print(f\"{user} is a vowel, and sometimes {user} is a consonant\")\n",
    "else:\n",
    "    print(f\"{user} is a consonant\")"
   ]
  },
  {
   "cell_type": "markdown",
   "id": "342b5f9f-5999-4853-9488-6a7236744ec5",
   "metadata": {},
   "source": [
    "# Question 4"
   ]
  },
  {
   "cell_type": "code",
   "execution_count": null,
   "id": "6dcc3b1a-71de-4e0f-be0b-f31a10b27ddc",
   "metadata": {},
   "outputs": [],
   "source": [
    "user = input(\"Enter a word to identify if it's a palindrome or not\")\n",
    "palindrome = user[1:2]\n",
    "while True:\n",
    "    if user == palindrome:\n",
    "        print (f\"{user} is a palindrome\")\n",
    "        break\n",
    "    else:\n",
    "        print(f\"{user} is not a palindrome\")"
   ]
  },
  {
   "cell_type": "markdown",
   "id": "b9a52c7d-6754-49c3-8396-21545985e8f7",
   "metadata": {},
   "source": [
    "# Question 5"
   ]
  },
  {
   "cell_type": "code",
   "execution_count": null,
   "id": "5009cd18-50fd-4c0a-8d3b-de11695cce5f",
   "metadata": {},
   "outputs": [],
   "source": [
    "def length (a,b):\n",
    "    return (a**2 + b**2) ** .5\n",
    "a = float(input(\"Enter first side of a triangle: \"))\n",
    "b = float(input(\"Enter second side of a triangle: \"))\n",
    "print (f\"The result is: {length (a,b)}\")\n"
   ]
  },
  {
   "cell_type": "code",
   "execution_count": null,
   "id": "563326b7-a46d-4cb0-9926-96c8d29f45fb",
   "metadata": {},
   "outputs": [],
   "source": []
  }
 ],
 "metadata": {
  "kernelspec": {
   "display_name": "Python 3 (ipykernel)",
   "language": "python",
   "name": "python3"
  },
  "language_info": {
   "codemirror_mode": {
    "name": "ipython",
    "version": 3
   },
   "file_extension": ".py",
   "mimetype": "text/x-python",
   "name": "python",
   "nbconvert_exporter": "python",
   "pygments_lexer": "ipython3",
   "version": "3.13.5"
  }
 },
 "nbformat": 4,
 "nbformat_minor": 5
}
