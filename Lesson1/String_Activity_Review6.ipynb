{
 "cells": [
  {
   "cell_type": "markdown",
   "id": "8208ba7e-9bab-43ec-a210-2175430ca6f1",
   "metadata": {},
   "source": [
    "# Activity Review 6"
   ]
  },
  {
   "cell_type": "code",
   "execution_count": 1,
   "id": "1575ba0a-9521-46d4-8ee2-09fb7af0f325",
   "metadata": {},
   "outputs": [
    {
     "data": {
      "text/plain": [
       "-1"
      ]
     },
     "execution_count": 1,
     "metadata": {},
     "output_type": "execute_result"
    }
   ],
   "source": [
    "#1. In one line of code, display the result of trying to .find() the sub\u0002string \"a\" in the string \"AAA\".\n",
    "word = \"AAA\"\n",
    "word.find(\"a\")"
   ]
  },
  {
   "cell_type": "code",
   "execution_count": 2,
   "id": "334b7cd7-2e80-4450-a648-9ff08157381f",
   "metadata": {},
   "outputs": [
    {
     "data": {
      "text/plain": [
       "'Somebody yaid yomething to Samantha'"
      ]
     },
     "execution_count": 2,
     "metadata": {},
     "output_type": "execute_result"
    }
   ],
   "source": [
    "#2. Replace every occurrence of the character \"s\" with \"y” in the string\n",
    "#\"Somebody said something to Samantha.\".\n",
    "string = \"Somebody said something to Samantha\"\n",
    "string.replace(\"s\", \"y\")"
   ]
  },
  {
   "cell_type": "code",
   "execution_count": 3,
   "id": "0ee69446-be75-401a-873b-8a4a6eb0f791",
   "metadata": {},
   "outputs": [
    {
     "name": "stdin",
     "output_type": "stream",
     "text": [
      "Enter something:  Mathematics\n"
     ]
    },
    {
     "data": {
      "text/plain": [
       "1"
      ]
     },
     "execution_count": 3,
     "metadata": {},
     "output_type": "execute_result"
    }
   ],
   "source": [
    "#3. Write and test a script that accepts user input using the input()\n",
    "#function and displays the result of trying to .find() a particular\n",
    "#letter in that input\n",
    "script = input(\"Enter something: \")\n",
    "script.find(\"a\")"
   ]
  },
  {
   "cell_type": "code",
   "execution_count": null,
   "id": "80cf36b4-7f6d-49e0-bbe3-a3fc834697c9",
   "metadata": {},
   "outputs": [],
   "source": []
  }
 ],
 "metadata": {
  "kernelspec": {
   "display_name": "Python 3 (ipykernel)",
   "language": "python",
   "name": "python3"
  },
  "language_info": {
   "codemirror_mode": {
    "name": "ipython",
    "version": 3
   },
   "file_extension": ".py",
   "mimetype": "text/x-python",
   "name": "python",
   "nbconvert_exporter": "python",
   "pygments_lexer": "ipython3",
   "version": "3.13.5"
  }
 },
 "nbformat": 4,
 "nbformat_minor": 5
}
