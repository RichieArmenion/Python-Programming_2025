{
 "cells": [
  {
   "cell_type": "markdown",
   "id": "5dc14c29-475f-4fd0-9fa0-cb8cef1676de",
   "metadata": {},
   "source": [
    "\n",
    "# Activity Review 1\n"
   ]
  },
  {
   "cell_type": "code",
   "execution_count": 7,
   "id": "64dc37ff-1851-4ff3-b2a3-a6c04e21e19e",
   "metadata": {},
   "outputs": [
    {
     "data": {
      "text/plain": [
       "5"
      ]
     },
     "execution_count": 7,
     "metadata": {},
     "output_type": "execute_result"
    }
   ],
   "source": [
    " #Create a string and print its length using the len() function.\n",
    "fruit = \"apple\"\n",
    "len(fruit)"
   ]
  },
  {
   "cell_type": "code",
   "execution_count": 5,
   "id": "c8e81244-8a2a-4037-a3f6-c67364557fd7",
   "metadata": {},
   "outputs": [
    {
     "name": "stdout",
     "output_type": "stream",
     "text": [
      "fruitsalad\n"
     ]
    }
   ],
   "source": [
    "#Create two strings, concatenate them, and print the resulting string.\n",
    "str1 = 'fruit'\n",
    "str2 = 'salad'\n",
    "print(str1 + str2)"
   ]
  },
  {
   "cell_type": "code",
   "execution_count": 6,
   "id": "36d7197a-67f6-459d-9b7a-28cd5080205f",
   "metadata": {},
   "outputs": [
    {
     "name": "stdout",
     "output_type": "stream",
     "text": [
      "Apple Pie\n"
     ]
    }
   ],
   "source": [
    "#Create two strings and use concatenation to add a space inbetween them. Then print the result.\n",
    "str1 = 'Apple'\n",
    "str2 = 'Pie'\n",
    "print (str1+ ' '+ str2)"
   ]
  },
  {
   "cell_type": "code",
   "execution_count": 9,
   "id": "d4e5d88c-4aac-4d94-9e37-85300459c507",
   "metadata": {},
   "outputs": [
    {
     "data": {
      "text/plain": [
       "'fox'"
      ]
     },
     "execution_count": 9,
     "metadata": {},
     "output_type": "execute_result"
    }
   ],
   "source": [
    "#Print the string \"fox\" by using slice notation on the string \"The quick brown fox jumped over the lazy dog. #1234567890!\" to specify the correct range of characters\n",
    "text = 'The quick brown fox jumped over the lazy dog. #1234567890!'\n",
    "text[16:19]\n"
   ]
  },
  {
   "cell_type": "code",
   "execution_count": 15,
   "id": "0e69aacd-0ead-4d97-a76a-5b809b585aca",
   "metadata": {},
   "outputs": [
    {
     "name": "stdin",
     "output_type": "stream",
     "text": [
      "Enter some text:  Peppa pig is pink and british\n"
     ]
    },
    {
     "name": "stdout",
     "output_type": "stream",
     "text": [
      "P3pp4 pig i5 pink 4nd 8ri7i5h\n"
     ]
    }
   ],
   "source": [
    "#Write a script called translate.py that asks the user for some input\n",
    "#with the following prompt: Enter some text:. Then use the .replace()\n",
    "#method to convert the text entered by the user into “leetspeak” by mak\u0002ing the following changes to lower-case letters:\n",
    "#• The letter a becomes 4\n",
    "#• The letter b becomes 8\n",
    "#• The letter e becomes 3\n",
    "#• The letter l becomes 1\n",
    "#• The letter o becomes 0\n",
    "#• The letter s becomes 5\n",
    "#• The letter t becomes 7\n",
    "#Your program should then display the resulting string as output.\n",
    "#Below is a sample run of the program:\n",
    "#Enter some text: I like to eat eggs and spam.\n",
    "#I 1ik3 70 347 3gg5 4nd 5p4m\n",
    "\n",
    "phrase = input(\"Enter some text: \")\n",
    "phrase = phrase.replace(\"a\", \"4\")\n",
    "phrase = phrase.replace(\"b\", \"8\")\n",
    "phrase = phrase.replace(\"e\", \"3\")\n",
    "phrase = phrase.replace(\"I\", \"1\")\n",
    "phrase = phrase.replace(\"o\", \"0\")\n",
    "phrase = phrase.replace(\"s\", \"5\")\n",
    "phrase = phrase.replace(\"t\", \"7\")\n",
    "print(phrase)"
   ]
  },
  {
   "cell_type": "code",
   "execution_count": null,
   "id": "dc28bcfd-0391-4cfd-b7b5-da45bfccf1cb",
   "metadata": {},
   "outputs": [],
   "source": []
  }
 ],
 "metadata": {
  "kernelspec": {
   "display_name": "Python 3 (ipykernel)",
   "language": "python",
   "name": "python3"
  },
  "language_info": {
   "codemirror_mode": {
    "name": "ipython",
    "version": 3
   },
   "file_extension": ".py",
   "mimetype": "text/x-python",
   "name": "python",
   "nbconvert_exporter": "python",
   "pygments_lexer": "ipython3",
   "version": "3.13.5"
  }
 },
 "nbformat": 4,
 "nbformat_minor": 5
}
