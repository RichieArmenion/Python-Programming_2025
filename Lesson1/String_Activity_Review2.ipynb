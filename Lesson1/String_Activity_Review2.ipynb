{
 "cells": [
  {
   "cell_type": "markdown",
   "id": "d2396545-0677-4fcb-9b58-e72f805ac3b9",
   "metadata": {},
   "source": [
    "# Activity Review 2"
   ]
  },
  {
   "cell_type": "code",
   "execution_count": 1,
   "id": "a0f6c8e5-0db6-4fde-bc49-0828c574eb3a",
   "metadata": {},
   "outputs": [
    {
     "name": "stdout",
     "output_type": "stream",
     "text": [
      "animals\n",
      "badger\n",
      "honey bee\n",
      "honeybadger\n"
     ]
    }
   ],
   "source": [
    "#1.Write a script that converts the following strings to lowercase: \"Animals\",\"Badger\",\"Honey Bee\",\"Honeybadger\". Print each lowercase string on a separate line.\n",
    "words = [\"Animals\",\"Badger\",\"Honey Bee\",\"Honeybadger\"]\n",
    "for x in words:\n",
    "    print (x.lower())"
   ]
  },
  {
   "cell_type": "code",
   "execution_count": 2,
   "id": "61282144-8233-4ab7-b892-871f27a9b306",
   "metadata": {},
   "outputs": [
    {
     "name": "stdout",
     "output_type": "stream",
     "text": [
      "ANIMALS\n",
      "BADGER\n",
      "HONEY BEE\n",
      "HONEYBADGER\n"
     ]
    }
   ],
   "source": [
    "#2.Repeat Exercise 1, but convert each string to uppercase instead of lowercase.\n",
    "words = [\"Animals\",\"Badger\",\"Honey Bee\",\"Honeybadger\"]\n",
    "for x in words:\n",
    "    print (x.upper())"
   ]
  },
  {
   "cell_type": "code",
   "execution_count": 3,
   "id": "d56f42d0-a644-4068-a24a-d6df2249e0e7",
   "metadata": {},
   "outputs": [
    {
     "name": "stdout",
     "output_type": "stream",
     "text": [
      "Filet Mignon\n",
      "Brisket\n"
     ]
    }
   ],
   "source": [
    "#3.Write a script that removes whitespace from the following strings: string1= \" Filet Mignon\" string2= \"Brisket \"\n",
    "string1= \" Filet Mignon\" \n",
    "string2= \"Brisket \"\n",
    "print (string1.lstrip())\n",
    "print (string2.rstrip())"
   ]
  },
  {
   "cell_type": "code",
   "execution_count": 4,
   "id": "45873984-67d5-461d-9fa8-59c616b1ab1e",
   "metadata": {},
   "outputs": [
    {
     "name": "stdout",
     "output_type": "stream",
     "text": [
      "False\n",
      "True\n"
     ]
    }
   ],
   "source": [
    "#4.Write a script that prints out the result of .startswith(\"be\") on each of the following strings:\n",
    "string1= \"Becomes\"\n",
    "string2= \"becomes\"\n",
    "print (string1.startswith(\"be\"))\n",
    "print (string2.startswith(\"be\"))"
   ]
  },
  {
   "cell_type": "code",
   "execution_count": 5,
   "id": "26d916ac-22bf-4104-bf4f-720ed4380e10",
   "metadata": {},
   "outputs": [
    {
     "name": "stdout",
     "output_type": "stream",
     "text": [
      "True\n",
      "True\n"
     ]
    }
   ],
   "source": [
    "#5. Using the same strings from Exercise 4, write a script that uses string methods to alter each string so that .startswith(\"be\") returns True for all of them\n",
    "string1= \"Becomes\"\n",
    "string2= \"becomes\"\n",
    "strng1 = string1.lower()\n",
    "strng2 = string2.lower()\n",
    "print (strng1.startswith(\"be\"))\n",
    "print (strng2.startswith(\"be\"))"
   ]
  },
  {
   "cell_type": "code",
   "execution_count": null,
   "id": "357d94b0-74fa-4eae-b01e-d1992f5a2782",
   "metadata": {},
   "outputs": [],
   "source": []
  }
 ],
 "metadata": {
  "kernelspec": {
   "display_name": "Python 3 (ipykernel)",
   "language": "python",
   "name": "python3"
  },
  "language_info": {
   "codemirror_mode": {
    "name": "ipython",
    "version": 3
   },
   "file_extension": ".py",
   "mimetype": "text/x-python",
   "name": "python",
   "nbconvert_exporter": "python",
   "pygments_lexer": "ipython3",
   "version": "3.13.5"
  }
 },
 "nbformat": 4,
 "nbformat_minor": 5
}
