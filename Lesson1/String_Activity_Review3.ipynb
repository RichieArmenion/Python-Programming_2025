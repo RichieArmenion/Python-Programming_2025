{
 "cells": [
  {
   "cell_type": "markdown",
   "id": "41c4d6d7-3440-4e00-8768-8847d67d9ac3",
   "metadata": {},
   "source": [
    "# Activity Review 3"
   ]
  },
  {
   "cell_type": "code",
   "execution_count": 2,
   "id": "8ff0d811-2cd3-4025-81b7-41ff86113dc1",
   "metadata": {},
   "outputs": [
    {
     "name": "stdin",
     "output_type": "stream",
     "text": [
      "Enter something:  Potato\n"
     ]
    },
    {
     "name": "stdout",
     "output_type": "stream",
     "text": [
      "You entered: Potato\n"
     ]
    }
   ],
   "source": [
    "#1.Write a script that takes input from the user and displays that input back.\n",
    "user_input = input(\"Enter something: \")\n",
    "print(\"You entered:\", user_input)"
   ]
  },
  {
   "cell_type": "code",
   "execution_count": 4,
   "id": "42fbfa23-07df-4c37-878b-2f0b04e98bb3",
   "metadata": {},
   "outputs": [
    {
     "name": "stdin",
     "output_type": "stream",
     "text": [
      "Where are you going? SOMEWHERE\n"
     ]
    },
    {
     "name": "stdout",
     "output_type": "stream",
     "text": [
      "You said:  somewhere\n"
     ]
    }
   ],
   "source": [
    "#2.Write a script that takes input from the user and displays the input in lowercase.\n",
    "user_input = input(\"Where are you going?\")\n",
    "print (\"You said: \", user_input.lower())"
   ]
  },
  {
   "cell_type": "code",
   "execution_count": 5,
   "id": "4dbb7dc9-5579-428e-8036-371f5aab2734",
   "metadata": {},
   "outputs": [
    {
     "name": "stdin",
     "output_type": "stream",
     "text": [
      "What are you doing? noTHING\n"
     ]
    },
    {
     "name": "stdout",
     "output_type": "stream",
     "text": [
      "7\n"
     ]
    }
   ],
   "source": [
    "#3.Write a script that takes input from the user and displays the number of characters inputted.\n",
    "user_input = \"What are you doing?\"\n",
    "inpt = input(user_input)\n",
    "print (len(inpt))"
   ]
  },
  {
   "cell_type": "code",
   "execution_count": null,
   "id": "bd3da2dc-ce6e-46fe-ae55-dbc62b9b6277",
   "metadata": {},
   "outputs": [],
   "source": []
  }
 ],
 "metadata": {
  "kernelspec": {
   "display_name": "Python 3 (ipykernel)",
   "language": "python",
   "name": "python3"
  },
  "language_info": {
   "codemirror_mode": {
    "name": "ipython",
    "version": 3
   },
   "file_extension": ".py",
   "mimetype": "text/x-python",
   "name": "python",
   "nbconvert_exporter": "python",
   "pygments_lexer": "ipython3",
   "version": "3.13.5"
  }
 },
 "nbformat": 4,
 "nbformat_minor": 5
}
