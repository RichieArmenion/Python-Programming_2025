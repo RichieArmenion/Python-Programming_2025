{
 "cells": [
  {
   "cell_type": "markdown",
   "id": "01a3268b-eb98-425e-aeeb-9fad1bb64c30",
   "metadata": {},
   "source": [
    "# Activity Review 5"
   ]
  },
  {
   "cell_type": "code",
   "execution_count": 1,
   "id": "b6f62d8f-21c5-44da-b467-7bce33cffbef",
   "metadata": {},
   "outputs": [
    {
     "name": "stdout",
     "output_type": "stream",
     "text": [
      "24\n"
     ]
    }
   ],
   "source": [
    "#Create a string containing an integer, then convert that string into an\n",
    "#actual integer object using int(). Test that your new object is a number\n",
    "#by multiplying it by another number and displaying the result.\n",
    "num_str = '12'\n",
    "num_int = int (num_str)\n",
    "result = num_int * 2\n",
    "print (result)"
   ]
  },
  {
   "cell_type": "code",
   "execution_count": 2,
   "id": "ffecfa7f-8ca5-4910-81d5-f256dc800169",
   "metadata": {},
   "outputs": [
    {
     "name": "stdout",
     "output_type": "stream",
     "text": [
      "24.0\n"
     ]
    }
   ],
   "source": [
    "#Repeat the previous exercise, but use a floating-point number and float().\n",
    "num_str = '12'\n",
    "num_float = float (num_str)\n",
    "result = num_float * 2\n",
    "print (result)"
   ]
  },
  {
   "cell_type": "code",
   "execution_count": 3,
   "id": "7330c622-cb32-4bb8-b35e-5aaa2f801043",
   "metadata": {},
   "outputs": [
    {
     "name": "stdout",
     "output_type": "stream",
     "text": [
      "number 12\n"
     ]
    }
   ],
   "source": [
    "#Create a string object and an integer object, then display them side by\n",
    "#side with a single print statement by using the str() function.\n",
    "string = 'number'\n",
    "intgr = '12'\n",
    "print (string +' '+intgr)"
   ]
  },
  {
   "cell_type": "code",
   "execution_count": null,
   "id": "0fe6b11f-d2b0-4fa7-85cb-4cfbf42241e0",
   "metadata": {},
   "outputs": [],
   "source": [
    "#Write a script that gets two numbers from the user using the input()\n",
    "#function twice, multiplies the numbers together, and displays the result\n",
    "num1 = input (\"Enter the first numbers\")\n",
    "num2 = input (\"Enter the second number\")\n",
    "num1 = int(num1)\n",
    "num2 = int(num2)\n",
    "result = num1 * num2\n",
    "print(\"The result of multiplying\", num1, \"and\", num2, \"is:\", result)\n"
   ]
  }
 ],
 "metadata": {
  "kernelspec": {
   "display_name": "Python 3 (ipykernel)",
   "language": "python",
   "name": "python3"
  },
  "language_info": {
   "codemirror_mode": {
    "name": "ipython",
    "version": 3
   },
   "file_extension": ".py",
   "mimetype": "text/x-python",
   "name": "python",
   "nbconvert_exporter": "python",
   "pygments_lexer": "ipython3",
   "version": "3.13.5"
  }
 },
 "nbformat": 4,
 "nbformat_minor": 5
}
