{
 "cells": [
  {
   "cell_type": "markdown",
   "id": "cc137441-0f27-439d-802e-692276fb1c5a",
   "metadata": {},
   "source": [
    "# Activity Review 4"
   ]
  },
  {
   "cell_type": "code",
   "execution_count": 2,
   "id": "b98d2fb8-13ba-4e6c-99a4-95130a344679",
   "metadata": {},
   "outputs": [
    {
     "name": "stdin",
     "output_type": "stream",
     "text": [
      "Tell me your name potato\n"
     ]
    },
    {
     "name": "stdout",
     "output_type": "stream",
     "text": [
      "Potato\n"
     ]
    }
   ],
   "source": [
    "#Write a script named first_letter.py that first prompts the user for input by\n",
    "#using the string \"Tell me your name:\" The script should then determine the\n",
    "#first letter of the user’s input, convert that letter to upper-case, and display\n",
    "#it back\n",
    "user_input = \"Tell me your name\"\n",
    "ans = input(user_input)\n",
    "ans1 = ans.upper()\n",
    "ans2 = ans1[0:1]\n",
    "ans3 = ans[1:1000000000]\n",
    "ans4 = ans2 + ans3\n",
    "print (ans4)"
   ]
  },
  {
   "cell_type": "code",
   "execution_count": null,
   "id": "2d70f76e-f4be-4b64-a840-c9d97d517a9b",
   "metadata": {},
   "outputs": [],
   "source": []
  }
 ],
 "metadata": {
  "kernelspec": {
   "display_name": "Python 3 (ipykernel)",
   "language": "python",
   "name": "python3"
  },
  "language_info": {
   "codemirror_mode": {
    "name": "ipython",
    "version": 3
   },
   "file_extension": ".py",
   "mimetype": "text/x-python",
   "name": "python",
   "nbconvert_exporter": "python",
   "pygments_lexer": "ipython3",
   "version": "3.13.5"
  }
 },
 "nbformat": 4,
 "nbformat_minor": 5
}
