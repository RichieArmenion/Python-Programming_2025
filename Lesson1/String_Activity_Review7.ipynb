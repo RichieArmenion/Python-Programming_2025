{
 "cells": [
  {
   "cell_type": "markdown",
   "id": "62106ece-6d9e-4fe1-86bd-1c650b0b0fb0",
   "metadata": {},
   "source": [
    "# Activity Review 7"
   ]
  },
  {
   "cell_type": "code",
   "execution_count": 1,
   "id": "375021ea-ef8e-4408-b461-9aa076d9fff9",
   "metadata": {},
   "outputs": [
    {
     "name": "stdin",
     "output_type": "stream",
     "text": [
      "Enter some text:  Peppa pig is pink and british\n"
     ]
    },
    {
     "name": "stdout",
     "output_type": "stream",
     "text": [
      "P3pp4 pig i5 pink 4nd 8ri7i5h\n"
     ]
    }
   ],
   "source": [
    "#Write a script called translate.py that asks the user for some input\n",
    "#with the following prompt: Enter some text:. Then use the .replace()\n",
    "#method to convert the text entered by the user into “leetspeak” by mak\u0002ing the following changes to lower-case letters:\n",
    "#• The letter a becomes 4\n",
    "#• The letter b becomes 8\n",
    "#• The letter e becomes 3\n",
    "#• The letter l becomes 1\n",
    "#• The letter o becomes 0\n",
    "#• The letter s becomes 5\n",
    "#• The letter t becomes 7\n",
    "#Your program should then display the resulting string as output.\n",
    "#Below is a sample run of the program:\n",
    "#Enter some text: I like to eat eggs and spam.\n",
    "#I 1ik3 70 347 3gg5 4nd 5p4m\n",
    "\n",
    "phrase = input(\"Enter some text: \")\n",
    "phrase = phrase.replace(\"a\", \"4\")\n",
    "phrase = phrase.replace(\"b\", \"8\")\n",
    "phrase = phrase.replace(\"e\", \"3\")\n",
    "phrase = phrase.replace(\"I\", \"1\")\n",
    "phrase = phrase.replace(\"o\", \"0\")\n",
    "phrase = phrase.replace(\"s\", \"5\")\n",
    "phrase = phrase.replace(\"t\", \"7\")\n",
    "print(phrase)"
   ]
  },
  {
   "cell_type": "code",
   "execution_count": null,
   "id": "c40ad47b-b4cc-44e4-bb65-2f79df9ef79f",
   "metadata": {},
   "outputs": [],
   "source": []
  }
 ],
 "metadata": {
  "kernelspec": {
   "display_name": "Python 3 (ipykernel)",
   "language": "python",
   "name": "python3"
  },
  "language_info": {
   "codemirror_mode": {
    "name": "ipython",
    "version": 3
   },
   "file_extension": ".py",
   "mimetype": "text/x-python",
   "name": "python",
   "nbconvert_exporter": "python",
   "pygments_lexer": "ipython3",
   "version": "3.13.5"
  }
 },
 "nbformat": 4,
 "nbformat_minor": 5
}
