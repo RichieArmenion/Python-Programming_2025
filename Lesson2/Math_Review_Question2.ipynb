{
 "cells": [
  {
   "cell_type": "markdown",
   "id": "450f1b7e-1276-48a5-a41e-b5d7ce139c72",
   "metadata": {},
   "source": [
    "# Activity Review 2"
   ]
  },
  {
   "cell_type": "code",
   "execution_count": 5,
   "id": "9a2b66ee-7df0-4e3d-9918-facd5e8a2b31",
   "metadata": {},
   "outputs": [
    {
     "name": "stdin",
     "output_type": "stream",
     "text": [
      "Enter a base 1:  5\n",
      "Enter an exponent:  2\n"
     ]
    },
    {
     "name": "stdout",
     "output_type": "stream",
     "text": [
      "5.0 raised to the power of 2.0 is 25.0\n"
     ]
    }
   ],
   "source": [
    "#Write a script called exponent.py that receives two numbers from the\n",
    "#user and displays the first number raised to the power of the second number.\n",
    "base = float (input (\"Enter a base 1: \"))\n",
    "exp = float (input (\"Enter an exponent: \"))\n",
    "result = base ** exp\n",
    "print(f\"{base} raised to the power of {exp} is {result}\")"
   ]
  },
  {
   "cell_type": "code",
   "execution_count": null,
   "id": "0c87e5c7-8733-4e5d-913a-081432f3e5ff",
   "metadata": {},
   "outputs": [],
   "source": []
  }
 ],
 "metadata": {
  "kernelspec": {
   "display_name": "Python 3 (ipykernel)",
   "language": "python",
   "name": "python3"
  },
  "language_info": {
   "codemirror_mode": {
    "name": "ipython",
    "version": 3
   },
   "file_extension": ".py",
   "mimetype": "text/x-python",
   "name": "python",
   "nbconvert_exporter": "python",
   "pygments_lexer": "ipython3",
   "version": "3.13.5"
  }
 },
 "nbformat": 4,
 "nbformat_minor": 5
}
