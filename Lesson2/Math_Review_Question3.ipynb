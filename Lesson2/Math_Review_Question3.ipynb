{
 "cells": [
  {
   "cell_type": "markdown",
   "id": "1cf4795a-d28c-4c5b-a935-e3a9d753bbc8",
   "metadata": {},
   "source": [
    "# Activity Review 3"
   ]
  },
  {
   "cell_type": "code",
   "execution_count": 1,
   "id": "459c5285-bda5-46fa-89b8-ca5053b2d61b",
   "metadata": {},
   "outputs": [
    {
     "name": "stdin",
     "output_type": "stream",
     "text": [
      "Enter a number:  44\n"
     ]
    },
    {
     "name": "stdout",
     "output_type": "stream",
     "text": [
      "Number rounded to two decimal places: 44.0\n"
     ]
    }
   ],
   "source": [
    "#Write a script that asks the user to input a number and then displays\n",
    "#that number rounded to two decimal places.\n",
    "\n",
    "num = float(input(\"Enter a number: \"))\n",
    "rounded_num = round(num, 2)\n",
    "print(f\"Number rounded to two decimal places: {rounded_num}\")\n"
   ]
  },
  {
   "cell_type": "code",
   "execution_count": 2,
   "id": "2481c6e3-63be-473a-a421-1e00bfa72d95",
   "metadata": {},
   "outputs": [
    {
     "name": "stdin",
     "output_type": "stream",
     "text": [
      "Enter a number:  34\n"
     ]
    },
    {
     "name": "stdout",
     "output_type": "stream",
     "text": [
      "Absolute value of the number: 34.0\n"
     ]
    }
   ],
   "source": [
    "#Write a script that asks the user to input a number and then displays\n",
    "#the absolute value of that number.\n",
    "\n",
    "num = float(input(\"Enter a number: \"))\n",
    "abs_num = abs(num)\n",
    "print(f\"Absolute value of the number: {abs_num}\")\n"
   ]
  },
  {
   "cell_type": "code",
   "execution_count": null,
   "id": "f930d3fc-5ddc-42f0-a1c1-333bdcf28300",
   "metadata": {},
   "outputs": [],
   "source": []
  }
 ],
 "metadata": {
  "kernelspec": {
   "display_name": "Python 3 (ipykernel)",
   "language": "python",
   "name": "python3"
  },
  "language_info": {
   "codemirror_mode": {
    "name": "ipython",
    "version": 3
   },
   "file_extension": ".py",
   "mimetype": "text/x-python",
   "name": "python",
   "nbconvert_exporter": "python",
   "pygments_lexer": "ipython3",
   "version": "3.13.5"
  }
 },
 "nbformat": 4,
 "nbformat_minor": 5
}
