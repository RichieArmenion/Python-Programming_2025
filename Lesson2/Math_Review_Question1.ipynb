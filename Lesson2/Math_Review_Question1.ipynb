{
 "cells": [
  {
   "cell_type": "markdown",
   "id": "b0f5540d-6124-4baf-9f78-f065c8549f32",
   "metadata": {},
   "source": [
    "# Activity Review 1"
   ]
  },
  {
   "cell_type": "code",
   "execution_count": 2,
   "id": "dfca1199-95f7-42aa-b758-cad59bafd698",
   "metadata": {},
   "outputs": [
    {
     "name": "stdout",
     "output_type": "stream",
     "text": [
      "25,000,000\n",
      "25_000_000\n"
     ]
    }
   ],
   "source": [
    "#1. Write a script that creates the two variables, num1 and num2. Both num1\n",
    "#and num2 should be assigned the integer literal 25,000,000, one written\n",
    "#with underscored and one without. Print num1 and num2 on two separate lines.\n",
    "num1 = \"25,000,000\"\n",
    "num2 = \"25_000_000\"\n",
    "print (num1)\n",
    "print (num2)"
   ]
  },
  {
   "cell_type": "code",
   "execution_count": 3,
   "id": "682a6548-ddfa-428c-8b48-5108a17fc11f",
   "metadata": {},
   "outputs": [
    {
     "name": "stdout",
     "output_type": "stream",
     "text": [
      "175000.0\n"
     ]
    }
   ],
   "source": [
    "#2. Write a script that assigns the floating-point literal 175000.0 to the\n",
    "#variable num using exponential notation, and then prints num.\n",
    "num =  1.75e5\n",
    "print (num)"
   ]
  },
  {
   "cell_type": "code",
   "execution_count": 17,
   "id": "37dd54fa-aeef-404a-b689-26f3d23d69a2",
   "metadata": {},
   "outputs": [
    {
     "name": "stdout",
     "output_type": "stream",
     "text": [
      "inf\n"
     ]
    }
   ],
   "source": [
    "#3. Try and find the smallest exponent N so that 2e<N>, where <N> is\n",
    "#replaced with your number, returns inf.\n",
    "print(25e308)\n"
   ]
  },
  {
   "cell_type": "code",
   "execution_count": null,
   "id": "196517f9-fd0b-4163-963b-44bf30e2b2c1",
   "metadata": {},
   "outputs": [],
   "source": []
  }
 ],
 "metadata": {
  "kernelspec": {
   "display_name": "Python 3 (ipykernel)",
   "language": "python",
   "name": "python3"
  },
  "language_info": {
   "codemirror_mode": {
    "name": "ipython",
    "version": 3
   },
   "file_extension": ".py",
   "mimetype": "text/x-python",
   "name": "python",
   "nbconvert_exporter": "python",
   "pygments_lexer": "ipython3",
   "version": "3.13.5"
  }
 },
 "nbformat": 4,
 "nbformat_minor": 5
}
