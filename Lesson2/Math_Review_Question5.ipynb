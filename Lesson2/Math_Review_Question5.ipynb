{
 "cells": [
  {
   "cell_type": "markdown",
   "id": "e2efe311-941c-40eb-9ca2-10226d4075b5",
   "metadata": {},
   "source": [
    "# Activity Review 5"
   ]
  },
  {
   "cell_type": "code",
   "execution_count": 2,
   "id": "fad8a06c-cbae-49d4-af0e-f150213e2b16",
   "metadata": {},
   "outputs": [
    {
     "name": "stdout",
     "output_type": "stream",
     "text": [
      "1.147\n"
     ]
    }
   ],
   "source": [
    "#1.Print the result of the calculation 3 ** .125 as a fixed-point number with\n",
    "#three decimal places.\n",
    "result = 3 ** 0.125\n",
    "print(f\"{result:.3f}\")"
   ]
  },
  {
   "cell_type": "code",
   "execution_count": 4,
   "id": "3bbd37ee-1a52-4b21-abe2-8626c1345681",
   "metadata": {},
   "outputs": [
    {
     "name": "stdout",
     "output_type": "stream",
     "text": [
      "150,000.00\n"
     ]
    }
   ],
   "source": [
    "#2.Print the number 150000 as currency, with the thousands grouped\n",
    "#with commas. Currency should be displayed with two decimal places.\n",
    "amount = 150000\n",
    "print(f\"{amount:,.2f}\")"
   ]
  },
  {
   "cell_type": "code",
   "execution_count": 5,
   "id": "a1bed38b-21a6-4429-8781-6bc237299da7",
   "metadata": {},
   "outputs": [
    {
     "name": "stdout",
     "output_type": "stream",
     "text": [
      "20%\n"
     ]
    }
   ],
   "source": [
    "#3.Print the result of 2 / 10 as a percentage with no decimal places. The\n",
    "#output should look like 20%.\n",
    "value = 2 / 10\n",
    "print(f\"{value:.0%}\")\n"
   ]
  }
 ],
 "metadata": {
  "kernelspec": {
   "display_name": "Python 3 (ipykernel)",
   "language": "python",
   "name": "python3"
  },
  "language_info": {
   "codemirror_mode": {
    "name": "ipython",
    "version": 3
   },
   "file_extension": ".py",
   "mimetype": "text/x-python",
   "name": "python",
   "nbconvert_exporter": "python",
   "pygments_lexer": "ipython3",
   "version": "3.13.5"
  }
 },
 "nbformat": 4,
 "nbformat_minor": 5
}
