{
 "cells": [
  {
   "cell_type": "markdown",
   "id": "5ab09f65-b295-4a15-9aa4-fc7a885a9c8a",
   "metadata": {},
   "source": [
    "# Activity Review 4"
   ]
  },
  {
   "cell_type": "code",
   "execution_count": 7,
   "id": "e221a251-a54b-408d-a48b-a3c72ccbf441",
   "metadata": {},
   "outputs": [
    {
     "name": "stdin",
     "output_type": "stream",
     "text": [
      "Enter the first number:  244\n",
      "Enter the second number:  12\n"
     ]
    },
    {
     "name": "stdout",
     "output_type": "stream",
     "text": [
      "The difference 232.0 between is an integer.\n"
     ]
    }
   ],
   "source": [
    "#Write a script that asks the user to input two numbers by using the\n",
    "#input() function twice, then display whether or not the difference\n",
    "#between those two number is an integer.\n",
    "\n",
    "num1 = float(input(\"Enter the first number: \"))\n",
    "num2 = float(input(\"Enter the second number: \"))\n",
    "\n",
    "difference = abs(num1 - num2)\n",
    "\n",
    "if difference.is_integer():\n",
    "    print(f\"The difference {difference} between is an integer.\")\n",
    "else:\n",
    "    print(f\"The difference {difference} is NOT an integer.\")\n"
   ]
  },
  {
   "cell_type": "code",
   "execution_count": null,
   "id": "e8085d49-ab92-4dbb-92aa-ee01725b8522",
   "metadata": {},
   "outputs": [],
   "source": []
  }
 ],
 "metadata": {
  "kernelspec": {
   "display_name": "Python 3 (ipykernel)",
   "language": "python",
   "name": "python3"
  },
  "language_info": {
   "codemirror_mode": {
    "name": "ipython",
    "version": 3
   },
   "file_extension": ".py",
   "mimetype": "text/x-python",
   "name": "python",
   "nbconvert_exporter": "python",
   "pygments_lexer": "ipython3",
   "version": "3.13.5"
  }
 },
 "nbformat": 4,
 "nbformat_minor": 5
}
