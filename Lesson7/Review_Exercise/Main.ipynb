{
 "cells": [
  {
   "cell_type": "markdown",
   "id": "57a5d1f5-95c9-4746-a112-c41abb0ea45e",
   "metadata": {},
   "source": [
    "# Activity Review 1"
   ]
  },
  {
   "cell_type": "code",
   "execution_count": 1,
   "id": "115b4795-392f-4da9-8b78-e6cc86ae1bc9",
   "metadata": {},
   "outputs": [
    {
     "name": "stdout",
     "output_type": "stream",
     "text": [
      "Hello Richie Ann!\n"
     ]
    }
   ],
   "source": [
    "import greeter\n",
    "\n",
    "greeter.greet(\"Richie Ann\")"
   ]
  },
  {
   "cell_type": "code",
   "execution_count": null,
   "id": "9ccc3aa7-9f1a-43b6-a042-fd7f01c76b1e",
   "metadata": {},
   "outputs": [],
   "source": []
  }
 ],
 "metadata": {
  "kernelspec": {
   "display_name": "Python [conda env:base] *",
   "language": "python",
   "name": "conda-base-py"
  },
  "language_info": {
   "codemirror_mode": {
    "name": "ipython",
    "version": 3
   },
   "file_extension": ".py",
   "mimetype": "text/x-python",
   "name": "python",
   "nbconvert_exporter": "python",
   "pygments_lexer": "ipython3",
   "version": "3.13.5"
  }
 },
 "nbformat": 4,
 "nbformat_minor": 5
}
