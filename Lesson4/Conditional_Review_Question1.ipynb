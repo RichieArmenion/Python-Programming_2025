{
 "cells": [
  {
   "cell_type": "markdown",
   "id": "b90b0f2a-f8f9-44fc-9099-d55e6816e32d",
   "metadata": {},
   "source": [
    "# Activity Review 1"
   ]
  },
  {
   "cell_type": "code",
   "execution_count": 1,
   "id": "0ccb98e1-dc2f-4e43-9854-0a175d5edc4a",
   "metadata": {},
   "outputs": [
    {
     "name": "stdout",
     "output_type": "stream",
     "text": [
      "1.\n",
      "True\n",
      "False\n",
      "True\n",
      "True\n",
      "True\n",
      "True\n"
     ]
    }
   ],
   "source": [
    "print (\"1.\")\n",
    "print (1 <=1)\n",
    "print (1 != 1)\n",
    "print (1 != 2)\n",
    "print (\"good\" != \"bad\")\n",
    "print (\"good\" != \"Good\")\n",
    "print (123 == 123)"
   ]
  },
  {
   "cell_type": "code",
   "execution_count": 2,
   "id": "3832a5e1-6aa4-4428-828d-426f03cccf5e",
   "metadata": {},
   "outputs": [
    {
     "name": "stdout",
     "output_type": "stream",
     "text": [
      "2.\n",
      "True\n",
      "True\n",
      "True\n",
      "True\n"
     ]
    }
   ],
   "source": [
    "print (\"2.\")\n",
    "print (3 < 4)\n",
    "print (10 > 5)\n",
    "print (\"jack\" != \"jill\")\n",
    "print (42 != \"42\")"
   ]
  },
  {
   "cell_type": "code",
   "execution_count": null,
   "id": "c3e51921-4d54-4f08-bbf1-3b1bd21b1e5c",
   "metadata": {},
   "outputs": [],
   "source": []
  }
 ],
 "metadata": {
  "kernelspec": {
   "display_name": "Python 3 (ipykernel)",
   "language": "python",
   "name": "python3"
  },
  "language_info": {
   "codemirror_mode": {
    "name": "ipython",
    "version": 3
   },
   "file_extension": ".py",
   "mimetype": "text/x-python",
   "name": "python",
   "nbconvert_exporter": "python",
   "pygments_lexer": "ipython3",
   "version": "3.13.5"
  }
 },
 "nbformat": 4,
 "nbformat_minor": 5
}
