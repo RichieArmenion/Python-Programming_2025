{
 "cells": [
  {
   "cell_type": "markdown",
   "id": "e2c2cccb-9ac3-4d91-9434-4fe51dbbfbf8",
   "metadata": {},
   "source": [
    "# Activity Review 6"
   ]
  },
  {
   "cell_type": "code",
   "execution_count": 1,
   "id": "9505a85f-bf70-4a8e-9e90-74a44c1796c3",
   "metadata": {},
   "outputs": [
    {
     "name": "stdout",
     "output_type": "stream",
     "text": [
      "You rolled a 3\n"
     ]
    }
   ],
   "source": [
    "#1. WRITE A FUNCTION CALLED ROLL() THAT USES THE RANDINT()\n",
    "#FUNCTION TO SIMULATE ROLLING A FAIR DIE BY RETURNING A RANDOM\n",
    "#INTEGER BETWEEN 1 AND 6.\n",
    "\n",
    "import random\n",
    "\n",
    "def roll():\n",
    "    return random.randint(1, 6)\n",
    "\n",
    "result = roll()\n",
    "print(f\"You rolled a {result}\")\n"
   ]
  },
  {
   "cell_type": "code",
   "execution_count": 2,
   "id": "de59c695-bf65-4531-be62-c880a5192ce1",
   "metadata": {},
   "outputs": [
    {
     "name": "stdout",
     "output_type": "stream",
     "text": [
      "Average roll after 10000 rolls: 3.5120\n"
     ]
    }
   ],
   "source": [
    "#2. WRITE A SCRIPT THAT SIMULATES 10,000 ROLLS OF A FAIR DIE AND\n",
    "#DISPLAYS THE AVERAGE NUMBER ROLLED.\n",
    "\n",
    "import random\n",
    "\n",
    "def roll():\n",
    "    return random.randint(1, 6)\n",
    "\n",
    "total = 0\n",
    "num_rolls = 10000\n",
    "\n",
    "for _ in range(num_rolls):\n",
    "    total += roll()\n",
    "\n",
    "average = total / num_rolls\n",
    "print(f\"Average roll after {num_rolls} rolls: {average:.4f}\")\n"
   ]
  },
  {
   "cell_type": "code",
   "execution_count": null,
   "id": "7b432ecd-6c6d-44b5-aa2e-7e6a13d3bc3b",
   "metadata": {},
   "outputs": [],
   "source": []
  }
 ],
 "metadata": {
  "kernelspec": {
   "display_name": "Python 3 (ipykernel)",
   "language": "python",
   "name": "python3"
  },
  "language_info": {
   "codemirror_mode": {
    "name": "ipython",
    "version": 3
   },
   "file_extension": ".py",
   "mimetype": "text/x-python",
   "name": "python",
   "nbconvert_exporter": "python",
   "pygments_lexer": "ipython3",
   "version": "3.13.5"
  }
 },
 "nbformat": 4,
 "nbformat_minor": 5
}
