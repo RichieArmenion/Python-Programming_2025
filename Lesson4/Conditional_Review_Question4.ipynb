{
 "cells": [
  {
   "cell_type": "markdown",
   "id": "44d1e90b-1a06-4b4e-91a8-84fad82076b7",
   "metadata": {},
   "source": [
    "# Activity Review 4"
   ]
  },
  {
   "cell_type": "code",
   "execution_count": 10,
   "id": "970618e5-5304-4280-a9db-b146d5da7188",
   "metadata": {},
   "outputs": [
    {
     "name": "stdin",
     "output_type": "stream",
     "text": [
      "Enter something (or 'Q' to quit):  r\n"
     ]
    },
    {
     "name": "stdout",
     "output_type": "stream",
     "text": [
      "You entered: r\n"
     ]
    },
    {
     "name": "stdin",
     "output_type": "stream",
     "text": [
      "Enter something (or 'Q' to quit):  R\n"
     ]
    },
    {
     "name": "stdout",
     "output_type": "stream",
     "text": [
      "You entered: R\n"
     ]
    },
    {
     "name": "stdin",
     "output_type": "stream",
     "text": [
      "Enter something (or 'Q' to quit):  Q\n"
     ]
    },
    {
     "name": "stdout",
     "output_type": "stream",
     "text": [
      "Program exited.\n"
     ]
    }
   ],
   "source": [
    "#1.USING BREAK, WRITE A PROGRAM THAT REPEATEDLY ASKS THE\n",
    "#USER FOR SOME INPUT AND ONLY QUITS IF THE USER ENTERS \"Q\"\n",
    "#OR \"Q\".\n",
    "\n",
    "while True:\n",
    "    user_input = input(\"Enter something (or 'Q' to quit): \")\n",
    "    if user_input.upper() == \"Q\":\n",
    "        break\n",
    "    print(f\"You entered: {user_input}\")\n",
    "\n",
    "print(\"Program exited.\")\n"
   ]
  },
  {
   "cell_type": "code",
   "execution_count": 9,
   "id": "49d39917-1116-48a4-bfb8-16d2ca1226ce",
   "metadata": {},
   "outputs": [
    {
     "name": "stdout",
     "output_type": "stream",
     "text": [
      "1\n",
      "2\n",
      "4\n",
      "5\n",
      "7\n",
      "8\n",
      "10\n",
      "11\n",
      "13\n",
      "14\n",
      "16\n",
      "17\n",
      "19\n",
      "20\n",
      "22\n",
      "23\n",
      "25\n",
      "26\n",
      "28\n",
      "29\n",
      "31\n",
      "32\n",
      "34\n",
      "35\n",
      "37\n",
      "38\n",
      "40\n",
      "41\n",
      "43\n",
      "44\n",
      "46\n",
      "47\n",
      "49\n",
      "50\n"
     ]
    }
   ],
   "source": [
    "#2. USING CONTINUE, WRITE A PROGRAM THAT LOOPS OVER THE\n",
    "#NUMBERS 1 TO 50 AND PRINTS ALL NUMBERS THAT ARE NOT\n",
    "#MULTIPLES OF 3\n",
    "\n",
    "for num in range (1,51):\n",
    "    if num % 3 == 0:\n",
    "        continue\n",
    "    print (num)"
   ]
  },
  {
   "cell_type": "code",
   "execution_count": null,
   "id": "8170b92a-97f1-4fa7-8f45-b9cc68db9c7c",
   "metadata": {},
   "outputs": [],
   "source": []
  }
 ],
 "metadata": {
  "kernelspec": {
   "display_name": "Python 3 (ipykernel)",
   "language": "python",
   "name": "python3"
  },
  "language_info": {
   "codemirror_mode": {
    "name": "ipython",
    "version": 3
   },
   "file_extension": ".py",
   "mimetype": "text/x-python",
   "name": "python",
   "nbconvert_exporter": "python",
   "pygments_lexer": "ipython3",
   "version": "3.13.5"
  }
 },
 "nbformat": 4,
 "nbformat_minor": 5
}
