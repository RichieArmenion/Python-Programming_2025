{
 "cells": [
  {
   "cell_type": "markdown",
   "id": "6802b94c-a1b5-416a-995e-7610e3edd73d",
   "metadata": {},
   "source": [
    "# Acitvity Review 5"
   ]
  },
  {
   "cell_type": "code",
   "execution_count": 1,
   "id": "03abd5e3-b642-4211-b68c-3a49539a0555",
   "metadata": {},
   "outputs": [
    {
     "name": "stdin",
     "output_type": "stream",
     "text": [
      "Please enter an integer:  rr\n"
     ]
    },
    {
     "name": "stdout",
     "output_type": "stream",
     "text": [
      "Try again\n"
     ]
    },
    {
     "name": "stdin",
     "output_type": "stream",
     "text": [
      "Please enter an integer:  4\n"
     ]
    },
    {
     "name": "stdout",
     "output_type": "stream",
     "text": [
      "You entered the integer: 4\n"
     ]
    }
   ],
   "source": [
    "#1. WRITE A SCRIPT THAT REPEATEDLY ASKS THE USER TO INPUT AN INTEGER,\n",
    "#DISPLAYING A MESSAGE TO “TRY AGAIN” BY CATCHING THE VALUE ERROR THAT IS RAISED\n",
    "#IF THE USER DID NOT ENTER AN INTEGER. ONCE THE USER ENTERS AN INTEGER, THE\n",
    "#PROGRAM SHOULD DISPLAY THE NUMBER BACK TO THE USER AND END WITHOUT CRASHING.\n",
    "\n",
    "while True:\n",
    "    user_input = input(\"Please enter an integer: \")\n",
    "    try:\n",
    "        number = int(user_input)\n",
    "        if isinstance(number, int):\n",
    "            print(f\"You entered the integer: {number}\")\n",
    "            break\n",
    "    except ValueError:\n",
    "        print(\"Try again\")\n"
   ]
  },
  {
   "cell_type": "code",
   "execution_count": 8,
   "id": "98f7063c-f648-4aec-a5af-64873160237e",
   "metadata": {},
   "outputs": [
    {
     "name": "stdin",
     "output_type": "stream",
     "text": [
      "Enter a string:  potato\n",
      "Enter an integer index:  5\n"
     ]
    },
    {
     "name": "stdout",
     "output_type": "stream",
     "text": [
      "The character at index 5 is 'o'\n"
     ]
    }
   ],
   "source": [
    "#2. WRITE A PROGRAM THAT ASKS THE USER TO INPUT A STRING AND AN INTEGER N.\n",
    "#THEN DISPLAY THE CHARACTER AT INDEX N IN THE STRING.\n",
    "\n",
    "user_string = input(\"Enter a string: \")\n",
    "\n",
    "n = int(input(\"Enter an integer index: \"))\n",
    "\n",
    "\n",
    "if 0 <= n < len(user_string):\n",
    "    print(f\"The character at index {n} is '{user_string[n]}'\")\n",
    "else:\n",
    "    print(\"Error: Index is out of range.\")\n"
   ]
  },
  {
   "cell_type": "code",
   "execution_count": null,
   "id": "84419f19-9e14-4eb1-a4aa-870782c30ce8",
   "metadata": {},
   "outputs": [],
   "source": []
  }
 ],
 "metadata": {
  "kernelspec": {
   "display_name": "Python 3 (ipykernel)",
   "language": "python",
   "name": "python3"
  },
  "language_info": {
   "codemirror_mode": {
    "name": "ipython",
    "version": 3
   },
   "file_extension": ".py",
   "mimetype": "text/x-python",
   "name": "python",
   "nbconvert_exporter": "python",
   "pygments_lexer": "ipython3",
   "version": "3.13.5"
  }
 },
 "nbformat": 4,
 "nbformat_minor": 5
}
