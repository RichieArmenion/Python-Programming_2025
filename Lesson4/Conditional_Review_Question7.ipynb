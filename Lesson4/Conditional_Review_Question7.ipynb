{
 "cells": [
  {
   "cell_type": "markdown",
   "id": "34c2cf34-2dc0-4767-8988-b7e0117ca830",
   "metadata": {},
   "source": [
    "# CHALLENGE: SIMULATE AN ELECTION"
   ]
  },
  {
   "cell_type": "code",
   "execution_count": 1,
   "id": "a61c9772-2eb7-47c9-ad12-d02f2e412581",
   "metadata": {},
   "outputs": [
    {
     "name": "stdout",
     "output_type": "stream",
     "text": [
      "Estimated probability that Candidate A wins majority: 0.6309\n"
     ]
    }
   ],
   "source": [
    "#SUPPOSE TWO CANDIDATES, CANDIDATE A AND CANDIDATE B, ARE RUNNING FOR MAYOR\n",
    "#IN A CITY WITH THREE VOTING REGIONS. THE MOST RECENT POLLS SHOW THAT CANDIDATE\n",
    "#A HAS THE FOLLOWING CHANCES FOR WINNING IN EACH REGION:\n",
    "#• REGION 1: 87%CHANCE OF WINNING\n",
    "#• REGION 2: 65%CHANCE OF WINNING\n",
    "#• REGION 3: 17% CHANCE OF WINNING\n",
    "\n",
    "import random\n",
    "\n",
    "# Probabilities Candidate A wins each region\n",
    "prob_region_1 = 0.87\n",
    "prob_region_2 = 0.65\n",
    "prob_region_3 = 0.17\n",
    "\n",
    "def simulate_election():\n",
    "    wins = 0\n",
    "    wins += 1 if random.random() < prob_region_1 else 0\n",
    "    wins += 1 if random.random() < prob_region_2 else 0\n",
    "    wins += 1 if random.random() < prob_region_3 else 0\n",
    "    return wins\n",
    "\n",
    "num_simulations = 100000\n",
    "candidate_a_majority_wins = 0\n",
    "\n",
    "for _ in range(num_simulations):\n",
    "    if simulate_election() >= 2:\n",
    "        candidate_a_majority_wins += 1\n",
    "\n",
    "probability_majority = candidate_a_majority_wins / num_simulations\n",
    "print(f\"Estimated probability that Candidate A wins majority: {probability_majority:.4f}\")\n"
   ]
  },
  {
   "cell_type": "code",
   "execution_count": null,
   "id": "57ff72ce-9428-4164-836e-27b174d5b280",
   "metadata": {},
   "outputs": [],
   "source": []
  }
 ],
 "metadata": {
  "kernelspec": {
   "display_name": "Python 3 (ipykernel)",
   "language": "python",
   "name": "python3"
  },
  "language_info": {
   "codemirror_mode": {
    "name": "ipython",
    "version": 3
   },
   "file_extension": ".py",
   "mimetype": "text/x-python",
   "name": "python",
   "nbconvert_exporter": "python",
   "pygments_lexer": "ipython3",
   "version": "3.13.5"
  }
 },
 "nbformat": 4,
 "nbformat_minor": 5
}
