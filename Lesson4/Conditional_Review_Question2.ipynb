{
 "cells": [
  {
   "cell_type": "markdown",
   "id": "09f9e822-290f-41dd-949b-7331cae03c40",
   "metadata": {},
   "source": [
    "# Activity Review 2"
   ]
  },
  {
   "cell_type": "code",
   "execution_count": 3,
   "id": "86641ff0-4f58-4bff-92e8-b0e3979ba55c",
   "metadata": {},
   "outputs": [
    {
     "name": "stdout",
     "output_type": "stream",
     "text": [
      "1.\n",
      "False\n",
      "False\n",
      "True\n",
      "False\n"
     ]
    }
   ],
   "source": [
    "print (\"1.\")\n",
    "print ((1 <= 1) and (1 != 1))\n",
    "print (not (1 != 2))\n",
    "print ((\"good\" != \"bad\") or (False))\n",
    "print ((\"good\" != \"Good\") and not (1 ==1))"
   ]
  },
  {
   "cell_type": "code",
   "execution_count": 23,
   "id": "d0c30541-b293-453d-bc5f-c2c162a264df",
   "metadata": {},
   "outputs": [
    {
     "name": "stdout",
     "output_type": "stream",
     "text": [
      "2.\n",
      "True\n",
      "True\n",
      "True\n"
     ]
    }
   ],
   "source": [
    "print (\"2.\")\n",
    "print ((\"False\") == (\"Not True\")or (True))\n",
    "print ((\"True and False\") == (\"True and False\"))\n",
    "print ((not True) & (\"A\" == \"B\") or (True))"
   ]
  },
  {
   "cell_type": "code",
   "execution_count": null,
   "id": "5287144e-801d-4467-b726-80679c981c1c",
   "metadata": {},
   "outputs": [],
   "source": []
  }
 ],
 "metadata": {
  "kernelspec": {
   "display_name": "Python 3 (ipykernel)",
   "language": "python",
   "name": "python3"
  },
  "language_info": {
   "codemirror_mode": {
    "name": "ipython",
    "version": 3
   },
   "file_extension": ".py",
   "mimetype": "text/x-python",
   "name": "python",
   "nbconvert_exporter": "python",
   "pygments_lexer": "ipython3",
   "version": "3.13.5"
  }
 },
 "nbformat": 4,
 "nbformat_minor": 5
}
