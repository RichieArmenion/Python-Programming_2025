{
 "cells": [
  {
   "cell_type": "markdown",
   "id": "a3c3b556-ddf4-4c5a-b1eb-0635f1a184cb",
   "metadata": {},
   "source": [
    "# Activity Review 3"
   ]
  },
  {
   "cell_type": "code",
   "execution_count": 4,
   "id": "226fc91c-1b62-46be-90ab-48c57f819b0d",
   "metadata": {},
   "outputs": [
    {
     "name": "stdin",
     "output_type": "stream",
     "text": [
      "Enter any word:  hamburger\n"
     ]
    },
    {
     "name": "stdout",
     "output_type": "stream",
     "text": [
      "hamburger is MORE than 5 characters\n"
     ]
    }
   ],
   "source": [
    "#1. WRITE A SCRIPT THAT PROMPTS THE USER TO ENTER A WORD USING THE INPUT()\n",
    "#FUNCTION, STORES THAT INPUT IN A VARIABLE, AND THEN DISPLAYS WHETHER THE\n",
    "#LENGTH OF THAT STRING IS LESS THAN 5 CHARACTERS, GREATER THAN 5CHARACTERS,\n",
    "#OR EQUAL TO 5 CHARACTERS BY USING A SET OF IF, ELIF AND ELSE STATEMENTS.\n",
    "\n",
    "user = str(input (\"Enter any word: \"))\n",
    "length = len(user)\n",
    "\n",
    "if length < 5:\n",
    "    print (f\"{user} is LESS than 5 characters\")\n",
    "elif length > 5:\n",
    "    print (f\"{user} is MORE than 5 characters\")\n",
    "else:\n",
    "    print (f\"{user} is EQUAL to 5 characters\")\n",
    "    "
   ]
  },
  {
   "cell_type": "code",
   "execution_count": null,
   "id": "cde5eb43-b85d-4c14-bb9a-dcd3cc062a5b",
   "metadata": {},
   "outputs": [],
   "source": []
  }
 ],
 "metadata": {
  "kernelspec": {
   "display_name": "Python 3 (ipykernel)",
   "language": "python",
   "name": "python3"
  },
  "language_info": {
   "codemirror_mode": {
    "name": "ipython",
    "version": 3
   },
   "file_extension": ".py",
   "mimetype": "text/x-python",
   "name": "python",
   "nbconvert_exporter": "python",
   "pygments_lexer": "ipython3",
   "version": "3.13.5"
  }
 },
 "nbformat": 4,
 "nbformat_minor": 5
}
