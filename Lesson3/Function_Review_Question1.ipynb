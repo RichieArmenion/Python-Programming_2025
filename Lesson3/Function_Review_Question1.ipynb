{
 "cells": [
  {
   "cell_type": "markdown",
   "id": "dbdabfaa-a9f3-426b-b311-9b1a63f320fd",
   "metadata": {},
   "source": [
    "# Activity Review 1"
   ]
  },
  {
   "cell_type": "code",
   "execution_count": 9,
   "id": "023e9647-e787-43d0-8fe9-091df3a06396",
   "metadata": {},
   "outputs": [
    {
     "name": "stdin",
     "output_type": "stream",
     "text": [
      "Enter any number:  23\n"
     ]
    },
    {
     "data": {
      "text/plain": [
       "12167"
      ]
     },
     "execution_count": 9,
     "metadata": {},
     "output_type": "execute_result"
    }
   ],
   "source": [
    "# 1. Write a function called cube() with one number parameter and returns the value of that number raised to the third power. Test the\n",
    "#function by displaying the result of calling your cube() function on\n",
    "#a few different numbers.\n",
    "user = input(\"Enter any number: \")\n",
    "num = int(user)\n",
    "def cube(number):\n",
    "    thirdpower = number ** 3\n",
    "    return thirdpower\n",
    "    \n",
    "cube(num)"
   ]
  },
  {
   "cell_type": "code",
   "execution_count": 20,
   "id": "5ba7c2e0-3570-4cce-a439-1b7a65bfe133",
   "metadata": {},
   "outputs": [
    {
     "name": "stdin",
     "output_type": "stream",
     "text": [
      "What's your name?  richie\n"
     ]
    },
    {
     "name": "stdout",
     "output_type": "stream",
     "text": [
      "Hello, richie!\n"
     ]
    }
   ],
   "source": [
    "# 2. Write a function called greet() that takes one string parameter\n",
    "#called name and displays the text \"Hello <name>!\" , where <name> is\n",
    "#replaced with the value of the name parameter\n",
    "user = input (\"What's your name? \")\n",
    "def greet (name):\n",
    "    print (f\"Hello, {name}!\")\n",
    "greet(name)"
   ]
  },
  {
   "cell_type": "code",
   "execution_count": null,
   "id": "d3cf9fb5-b95b-4d15-80b2-a9037dc807ff",
   "metadata": {},
   "outputs": [],
   "source": []
  }
 ],
 "metadata": {
  "kernelspec": {
   "display_name": "Python 3 (ipykernel)",
   "language": "python",
   "name": "python3"
  },
  "language_info": {
   "codemirror_mode": {
    "name": "ipython",
    "version": 3
   },
   "file_extension": ".py",
   "mimetype": "text/x-python",
   "name": "python",
   "nbconvert_exporter": "python",
   "pygments_lexer": "ipython3",
   "version": "3.13.5"
  }
 },
 "nbformat": 4,
 "nbformat_minor": 5
}
