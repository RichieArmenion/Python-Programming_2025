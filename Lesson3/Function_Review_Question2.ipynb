{
 "cells": [
  {
   "cell_type": "markdown",
   "id": "d9514ae3-57f4-40f4-9adc-b2fa15534c5f",
   "metadata": {},
   "source": [
    "# Challenge: Covert Temperatures"
   ]
  },
  {
   "cell_type": "code",
   "execution_count": 8,
   "id": "dd113714-e6d9-4b59-b2d0-936c1349e342",
   "metadata": {},
   "outputs": [
    {
     "name": "stdin",
     "output_type": "stream",
     "text": [
      "Enter a temperature in degrees F:  45\n"
     ]
    },
    {
     "name": "stdout",
     "output_type": "stream",
     "text": [
      "45.0 degrees F = 7.22 degrees C \n",
      "\n"
     ]
    }
   ],
   "source": [
    "#1.Write a function named convert_cel_to_far() which takes one float\n",
    "#parameter representing degrees Celsius and returns a float\n",
    "#representing the same temperature in degrees Farenheit.\n",
    "def convert_cel_to_far(celsius):\n",
    "     return (celsius * 9/5) + 32\n",
    "\n",
    "farenheit = float(input(\"Enter a temperature in degrees F: \"))\n",
    "celsius = convert_far_to_cel (farenheit)\n",
    "print (f\"{farenheit} degrees F = {celsius:.2f} degrees C \\n\")"
   ]
  },
  {
   "cell_type": "code",
   "execution_count": 9,
   "id": "a0bf9bc0-59cc-4b74-a1bb-755ee8e416c3",
   "metadata": {},
   "outputs": [
    {
     "name": "stdin",
     "output_type": "stream",
     "text": [
      "Enter a temperature in degrees C:  54\n"
     ]
    },
    {
     "name": "stdout",
     "output_type": "stream",
     "text": [
      "54.0 degrees C = 129.20 degrees F \n"
     ]
    }
   ],
   "source": [
    "#2.Write a function named convert_far_to_cel() which take one float\n",
    "#parameter representing degrees Fahrenheit and returns a float\n",
    "#representing the same temperature in degrees Celsius\n",
    "\n",
    "def convert_far_to_cel(farenheit):\n",
    "    return (farenheit - 32) * 5/9\n",
    "    \n",
    "celsius = float(input(\"Enter a temperature in degrees C: \"))\n",
    "farenheit = convert_cel_to_far (celsius)\n",
    "print (f\"{celsius} degrees C = {farenheit:.2f} degrees F \")\n"
   ]
  },
  {
   "cell_type": "code",
   "execution_count": null,
   "id": "4b6b6b06-f080-4e1c-ad24-4f56be09307a",
   "metadata": {},
   "outputs": [],
   "source": []
  }
 ],
 "metadata": {
  "kernelspec": {
   "display_name": "Python 3 (ipykernel)",
   "language": "python",
   "name": "python3"
  },
  "language_info": {
   "codemirror_mode": {
    "name": "ipython",
    "version": 3
   },
   "file_extension": ".py",
   "mimetype": "text/x-python",
   "name": "python",
   "nbconvert_exporter": "python",
   "pygments_lexer": "ipython3",
   "version": "3.13.5"
  }
 },
 "nbformat": 4,
 "nbformat_minor": 5
}
