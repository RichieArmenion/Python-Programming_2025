{
 "cells": [
  {
   "cell_type": "markdown",
   "id": "d6eb104c-bde4-4b75-aaff-103e8cf7cd88",
   "metadata": {},
   "source": [
    "# Challenge: Model A Farm"
   ]
  },
  {
   "cell_type": "code",
   "execution_count": 2,
   "id": "3fc756d2-b448-4746-a85b-9f8b46f38d61",
   "metadata": {},
   "outputs": [
    {
     "name": "stdout",
     "output_type": "stream",
     "text": [
      "\n",
      "--- BESSIE THE COW ---\n",
      "Bessie says Moo!\n",
      "Bessie the Cow is eating.\n",
      "Bessie the Cow is sleeping.\n",
      "\n",
      "--- CHIRPY THE CHICKEN ---\n",
      "Chirpy says Cluck!\n",
      "Chirpy the Chicken is eating.\n",
      "Chirpy the Chicken is sleeping.\n",
      "\n",
      "--- PORKY THE PIG ---\n",
      "Porky says Oink!\n",
      "Porky the Pig is eating.\n",
      "Porky the Pig is sleeping.\n",
      "\n",
      "--- Special Behaviors ---\n",
      "Bessie is producing fresh milk.\n",
      "Chirpy laid an egg!\n",
      "Porky is happily rolling in the mud.\n"
     ]
    }
   ],
   "source": [
    "# Parent class: Animal\n",
    "class Animal:\n",
    "    def __init__(self, name, species, sound):\n",
    "        self.name = name\n",
    "        self.species = species\n",
    "        self.sound = sound\n",
    "\n",
    "    def eat(self):\n",
    "        print(f\"{self.name} the {self.species} is eating.\")\n",
    "\n",
    "    def sleep(self):\n",
    "        print(f\"{self.name} the {self.species} is sleeping.\")\n",
    "\n",
    "    def make_sound(self):\n",
    "        print(f\"{self.name} says {self.sound}!\")\n",
    "\n",
    "\n",
    "# Child class: Cow\n",
    "class Cow(Animal):\n",
    "    def __init__(self, name):\n",
    "        super().__init__(name, \"Cow\", \"Moo\")\n",
    "\n",
    "    def produce_milk(self):\n",
    "        print(f\"{self.name} is producing fresh milk.\")\n",
    "\n",
    "\n",
    "# Child class: Chicken\n",
    "class Chicken(Animal):\n",
    "    def __init__(self, name):\n",
    "        super().__init__(name, \"Chicken\", \"Cluck\")\n",
    "\n",
    "    def lay_egg(self):\n",
    "        print(f\"{self.name} laid an egg!\")\n",
    "\n",
    "\n",
    "# Child class: Pig\n",
    "class Pig(Animal):\n",
    "    def __init__(self, name):\n",
    "        super().__init__(name, \"Pig\", \"Oink\")\n",
    "\n",
    "    def roll_in_mud(self):\n",
    "        print(f\"{self.name} is happily rolling in the mud.\")\n",
    "\n",
    "\n",
    "\n",
    "def farm_demo():\n",
    "    cow = Cow(\"Bessie\")\n",
    "    chicken = Chicken(\"Chirpy\")\n",
    "    pig = Pig(\"Porky\")\n",
    "\n",
    "    animals = [cow, chicken, pig]\n",
    "\n",
    "    for animal in animals:\n",
    "        print(f\"\\n--- {animal.name.upper()} THE {animal.species.upper()} ---\")\n",
    "        animal.make_sound()\n",
    "        animal.eat()\n",
    "        animal.sleep()\n",
    "\n",
    "    print(\"\\n--- Special Behaviors ---\")\n",
    "    cow.produce_milk()\n",
    "    chicken.lay_egg()\n",
    "    pig.roll_in_mud()\n",
    "\n",
    "\n",
    "farm_demo()\n"
   ]
  },
  {
   "cell_type": "code",
   "execution_count": null,
   "id": "de099168-f679-4b87-b743-12c96470c7fb",
   "metadata": {},
   "outputs": [],
   "source": []
  }
 ],
 "metadata": {
  "kernelspec": {
   "display_name": "Python [conda env:base] *",
   "language": "python",
   "name": "conda-base-py"
  },
  "language_info": {
   "codemirror_mode": {
    "name": "ipython",
    "version": 3
   },
   "file_extension": ".py",
   "mimetype": "text/x-python",
   "name": "python",
   "nbconvert_exporter": "python",
   "pygments_lexer": "ipython3",
   "version": "3.13.5"
  }
 },
 "nbformat": 4,
 "nbformat_minor": 5
}
